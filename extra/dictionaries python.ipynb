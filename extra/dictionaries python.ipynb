{
 "cells": [
  {
   "cell_type": "markdown",
   "id": "ed23ffe5",
   "metadata": {},
   "source": [
    "# Dictionaries python\n",
    "\n",
    "Dictonaries worden gebruiken om data te bewaren in key-value paren. Elke key is hierbij uniek en wordt gebruikt om de bijbehorende value te bereiken. "
   ]
  },
  {
   "cell_type": "code",
   "execution_count": 3,
   "id": "bfcfc384",
   "metadata": {},
   "outputs": [],
   "source": [
    "# het maken van een dictionary\n",
    "dict = {'a': 6, 'b':2}"
   ]
  },
  {
   "cell_type": "code",
   "execution_count": 5,
   "id": "6e3fa3f5",
   "metadata": {},
   "outputs": [
    {
     "name": "stdout",
     "output_type": "stream",
     "text": [
      "{'a': 6, 'b': 2, 'c': 4}\n"
     ]
    }
   ],
   "source": [
    "# het updaten van een dictionary\n",
    "dict.update({'c': 4})\n",
    "print(dict)"
   ]
  },
  {
   "cell_type": "code",
   "execution_count": 10,
   "id": "dafa5859",
   "metadata": {},
   "outputs": [
    {
     "data": {
      "text/plain": [
       "dict_keys(['a', 'b', 'c'])"
      ]
     },
     "execution_count": 10,
     "metadata": {},
     "output_type": "execute_result"
    }
   ],
   "source": [
    "dict.keys()"
   ]
  },
  {
   "cell_type": "code",
   "execution_count": 8,
   "id": "eed436ee",
   "metadata": {},
   "outputs": [
    {
     "data": {
      "text/plain": [
       "dict_values([6, 2, 4])"
      ]
     },
     "execution_count": 8,
     "metadata": {},
     "output_type": "execute_result"
    }
   ],
   "source": [
    "dict.values()"
   ]
  }
 ],
 "metadata": {
  "kernelspec": {
   "display_name": "Python 3 (ipykernel)",
   "language": "python",
   "name": "python3"
  },
  "language_info": {
   "codemirror_mode": {
    "name": "ipython",
    "version": 3
   },
   "file_extension": ".py",
   "mimetype": "text/x-python",
   "name": "python",
   "nbconvert_exporter": "python",
   "pygments_lexer": "ipython3",
   "version": "3.10.6"
  }
 },
 "nbformat": 4,
 "nbformat_minor": 5
}
