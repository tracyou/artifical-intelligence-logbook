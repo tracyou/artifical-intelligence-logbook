{
 "cells": [
  {
   "cell_type": "markdown",
   "id": "75004a74",
   "metadata": {},
   "source": [
    "# Slicing\n",
    "\n",
    "Slicing is een manier om een deel van een van 'lijsten' eruit te halen, zoals strings of een lijst."
   ]
  },
  {
   "cell_type": "code",
   "execution_count": 4,
   "id": "96ac5767",
   "metadata": {},
   "outputs": [
    {
     "name": "stdout",
     "output_type": "stream",
     "text": [
      "[6, 8, 10]\n",
      "[2, 8, 13, 16, 19]\n"
     ]
    }
   ],
   "source": [
    "# Een lijst met getallen\n",
    "num = [2, 4, 6, 8, 10, 12, 13, 14, 15, 16, 17, 18, 19, 20]\n",
    "\n",
    "# Hierbij worden de getallen van de index 2 tot aan 5 opgehaald\n",
    "sub = num[2:5]\n",
    "\n",
    "print(sub)\n",
    "\n",
    "# Hierbij wordt elke derde getal van de lijst gepakt\n",
    "sub = num[::3]\n",
    "\n",
    "print(sub)"
   ]
  },
  {
   "cell_type": "code",
   "execution_count": 5,
   "id": "019d3c66",
   "metadata": {},
   "outputs": [
    {
     "name": "stdout",
     "output_type": "stream",
     "text": [
      "Werel\n"
     ]
    }
   ],
   "source": [
    "# Slicing met een string\n",
    "string = \"Hallo Wereld\"\n",
    "\n",
    "# Hierbij worden de letters van de index 6 tot 11 opgehaald \n",
    "sub = string[6:11]\n",
    "\n",
    "print(sub)"
   ]
  }
 ],
 "metadata": {
  "kernelspec": {
   "display_name": "Python 3 (ipykernel)",
   "language": "python",
   "name": "python3"
  },
  "language_info": {
   "codemirror_mode": {
    "name": "ipython",
    "version": 3
   },
   "file_extension": ".py",
   "mimetype": "text/x-python",
   "name": "python",
   "nbconvert_exporter": "python",
   "pygments_lexer": "ipython3",
   "version": "3.10.6"
  }
 },
 "nbformat": 4,
 "nbformat_minor": 5
}
