{
 "cells": [
  {
   "cell_type": "markdown",
   "metadata": {},
   "source": [
    "In deze opgave classificeren afbeeldingen van bloemen uit de iris dataset met behulp van een neuraal netwerk."
   ]
  },
  {
   "cell_type": "code",
   "execution_count": 1,
   "metadata": {},
   "outputs": [],
   "source": [
    "import numpy as np\n",
    "import pandas as pd\n",
    "from matplotlib import pyplot as plt\n",
    "import seaborn as sns\n",
    "from sklearn.model_selection import train_test_split\n",
    "from sklearn.preprocessing import OneHotEncoder"
   ]
  },
  {
   "cell_type": "markdown",
   "metadata": {},
   "source": [
    "Laad de dataset en maak een feature matrix X en een target vector y."
   ]
  },
  {
   "cell_type": "code",
   "execution_count": 2,
   "metadata": {},
   "outputs": [],
   "source": [
    "iris = sns.load_dataset('iris')\n",
    "\n",
    "# we gebruiken .values om een Numpy array te krijgen in plaats van een Pandas DataFrame\n",
    "X_iris = iris.drop('species', axis=1).values \n",
    "y_iris = iris['species'].values"
   ]
  },
  {
   "cell_type": "code",
   "execution_count": 3,
   "metadata": {},
   "outputs": [
    {
     "name": "stdout",
     "output_type": "stream",
     "text": [
      "[['setosa']\n",
      " ['setosa']\n",
      " ['setosa']\n",
      " ['setosa']\n",
      " ['setosa']\n",
      " ['setosa']\n",
      " ['setosa']\n",
      " ['setosa']\n",
      " ['setosa']\n",
      " ['setosa']]\n"
     ]
    }
   ],
   "source": [
    "y_iris = y_iris.reshape(-1, 1) # maak een array van array's, dit is nodig voor de volgende stap\n",
    "print(y_iris[:10])"
   ]
  },
  {
   "cell_type": "markdown",
   "metadata": {},
   "source": [
    "Een neuraal netwerk kan niet omgaan met categorische labels zoals de namen van de planten, maar heeft getallen als uitput nodig. We hebben hier drie klassen (setosa, versicolor, virginica) daarom maken we een target vector met per label drie waarden. Een 1 voor de eerste waarde correspondeert met 'setosa', een 1 voor de 2e waade met 'versicolor' en een 1 voor de derde waarde met 'virginica'."
   ]
  },
  {
   "cell_type": "markdown",
   "metadata": {},
   "source": [
    "Doe dit met behulp van het `OneHotEncoder` object uit sklearn."
   ]
  },
  {
   "cell_type": "code",
   "execution_count": 4,
   "metadata": {},
   "outputs": [],
   "source": [
    "enc = OneHotEncoder(sparse=False)\n",
    "y_enc = enc.fit_transform(y_iris)"
   ]
  },
  {
   "cell_type": "markdown",
   "metadata": {},
   "source": [
    "We hebben de data nu in een geschikt formaat. Splits de data in training en test data."
   ]
  },
  {
   "cell_type": "code",
   "execution_count": 5,
   "metadata": {},
   "outputs": [],
   "source": [
    "X_train, X_test, y_train, y_test = train_test_split(X_iris, y_enc, test_size=0.2, random_state=6)"
   ]
  },
  {
   "cell_type": "markdown",
   "metadata": {},
   "source": [
    "Maak een eenvoudig neuraal netwerk met 3 lagen, waarin elke neuron in een laag met elk neuron in de vorige laag verbonden is ('Dense'). \n",
    "Voeg voor de eeste laag een parameter `input_shape` toe die aangeeft hoeveel features een element in 'X' heeft.\n",
    "Het aantal neuronen in de laaste laag is gelijk aan het aantal waarden in een label in `y`. "
   ]
  },
  {
   "cell_type": "code",
   "execution_count": 6,
   "metadata": {},
   "outputs": [],
   "source": [
    "from keras.models import Sequential\n",
    "from keras.layers import Dense\n",
    "\n",
    "model = Sequential()\n",
    "\n",
    "# Voeg lagen toe\n",
    "model.add(Dense(4, input_shape = (4,), activation = 'relu'))\n",
    "model.add(Dense(3, activation= \"relu\"))\n",
    "model.add(Dense(3, activation = 'softmax'))"
   ]
  },
  {
   "cell_type": "markdown",
   "metadata": {},
   "source": [
    "Compileer en bekijk het netwerk door onderstaande code te runnen."
   ]
  },
  {
   "cell_type": "code",
   "execution_count": 7,
   "metadata": {},
   "outputs": [
    {
     "name": "stdout",
     "output_type": "stream",
     "text": [
      "Model: \"sequential\"\n",
      "_________________________________________________________________\n",
      " Layer (type)                Output Shape              Param #   \n",
      "=================================================================\n",
      " dense (Dense)               (None, 4)                 20        \n",
      "                                                                 \n",
      " dense_1 (Dense)             (None, 3)                 15        \n",
      "                                                                 \n",
      " dense_2 (Dense)             (None, 3)                 12        \n",
      "                                                                 \n",
      "=================================================================\n",
      "Total params: 47\n",
      "Trainable params: 47\n",
      "Non-trainable params: 0\n",
      "_________________________________________________________________\n"
     ]
    },
    {
     "name": "stderr",
     "output_type": "stream",
     "text": [
      "C:\\Users\\misst\\aai-env\\lib\\site-packages\\keras\\optimizers\\optimizer_v2\\adam.py:110: UserWarning: The `lr` argument is deprecated, use `learning_rate` instead.\n",
      "  super(Adam, self).__init__(name, **kwargs)\n"
     ]
    }
   ],
   "source": [
    "from keras.optimizers import Adam\n",
    "\n",
    "model.compile(Adam(lr=0.01),'categorical_crossentropy',metrics=['accuracy'])\n",
    "\n",
    "model.summary()"
   ]
  },
  {
   "cell_type": "markdown",
   "metadata": {},
   "source": [
    "Nu kunnen we ons model trainen met behulp van de `fit` methode."
   ]
  },
  {
   "cell_type": "code",
   "execution_count": 8,
   "metadata": {},
   "outputs": [
    {
     "name": "stdout",
     "output_type": "stream",
     "text": [
      "Epoch 1/25\n",
      "24/24 [==============================] - 1s 1ms/step - loss: 0.9707 - accuracy: 0.5333 \n",
      "Epoch 2/25\n",
      "24/24 [==============================] - 0s 1ms/step - loss: 0.7582 - accuracy: 0.6667\n",
      "Epoch 3/25\n",
      "24/24 [==============================] - 0s 1ms/step - loss: 0.6162 - accuracy: 0.7167\n",
      "Epoch 4/25\n",
      "24/24 [==============================] - 0s 1ms/step - loss: 0.4968 - accuracy: 0.7667\n",
      "Epoch 5/25\n",
      "24/24 [==============================] - 0s 1ms/step - loss: 0.4287 - accuracy: 0.8333\n",
      "Epoch 6/25\n",
      "24/24 [==============================] - 0s 1ms/step - loss: 0.3749 - accuracy: 0.8833\n",
      "Epoch 7/25\n",
      "24/24 [==============================] - 0s 1ms/step - loss: 0.3239 - accuracy: 0.9667\n",
      "Epoch 8/25\n",
      "24/24 [==============================] - 0s 1ms/step - loss: 0.2886 - accuracy: 0.8833\n",
      "Epoch 9/25\n",
      "24/24 [==============================] - 0s 1ms/step - loss: 0.2822 - accuracy: 0.9000\n",
      "Epoch 10/25\n",
      "24/24 [==============================] - 0s 2ms/step - loss: 0.2271 - accuracy: 0.9500\n",
      "Epoch 11/25\n",
      "24/24 [==============================] - 0s 1ms/step - loss: 0.2130 - accuracy: 0.9333\n",
      "Epoch 12/25\n",
      "24/24 [==============================] - 0s 2ms/step - loss: 0.1629 - accuracy: 0.9833\n",
      "Epoch 13/25\n",
      "24/24 [==============================] - 0s 1ms/step - loss: 0.1442 - accuracy: 0.9667\n",
      "Epoch 14/25\n",
      "24/24 [==============================] - 0s 1ms/step - loss: 0.1420 - accuracy: 0.9500\n",
      "Epoch 15/25\n",
      "24/24 [==============================] - 0s 1ms/step - loss: 0.1173 - accuracy: 0.9750\n",
      "Epoch 16/25\n",
      "24/24 [==============================] - 0s 1ms/step - loss: 0.1303 - accuracy: 0.9583\n",
      "Epoch 17/25\n",
      "24/24 [==============================] - 0s 1ms/step - loss: 0.1352 - accuracy: 0.9583\n",
      "Epoch 18/25\n",
      "24/24 [==============================] - 0s 1ms/step - loss: 0.1314 - accuracy: 0.9583\n",
      "Epoch 19/25\n",
      "24/24 [==============================] - 0s 1ms/step - loss: 0.1667 - accuracy: 0.9417\n",
      "Epoch 20/25\n",
      "24/24 [==============================] - 0s 2ms/step - loss: 0.1359 - accuracy: 0.9417\n",
      "Epoch 21/25\n",
      "24/24 [==============================] - 0s 1ms/step - loss: 0.0933 - accuracy: 0.9750\n",
      "Epoch 22/25\n",
      "24/24 [==============================] - 0s 1ms/step - loss: 0.0972 - accuracy: 0.9917\n",
      "Epoch 23/25\n",
      "24/24 [==============================] - 0s 1ms/step - loss: 0.0949 - accuracy: 0.9750\n",
      "Epoch 24/25\n",
      "24/24 [==============================] - 0s 1ms/step - loss: 0.0851 - accuracy: 0.9833\n",
      "Epoch 25/25\n",
      "24/24 [==============================] - 0s 1ms/step - loss: 0.1015 - accuracy: 0.9583\n"
     ]
    },
    {
     "data": {
      "text/plain": [
       "<keras.callbacks.History at 0x1ec17f55180>"
      ]
     },
     "execution_count": 8,
     "metadata": {},
     "output_type": "execute_result"
    }
   ],
   "source": [
    "model.fit(X_train, y_train, epochs = 25, batch_size = 5)"
   ]
  },
  {
   "cell_type": "markdown",
   "metadata": {},
   "source": [
    "Met `model_evaluate` kunnen we bepalen hoe goed het model werkt op de test data."
   ]
  },
  {
   "cell_type": "code",
   "execution_count": 9,
   "metadata": {},
   "outputs": [
    {
     "name": "stdout",
     "output_type": "stream",
     "text": [
      "1/1 [==============================] - 0s 240ms/step - loss: 0.0734 - accuracy: 0.9667\n",
      "0.9666666388511658\n"
     ]
    }
   ],
   "source": [
    "test_loss, test_acc = model.evaluate(X_test, y_test)\n",
    "print(test_acc)"
   ]
  },
  {
   "cell_type": "markdown",
   "metadata": {},
   "source": [
    "Experimenteer met bovenstaand model. Wat gebeurt er als je meer lagen toevoegt of een laag weghaalt of het aantal neuronen in een laag verandert? \n",
    "\n",
    "Probeer ook eens andere activatiefuncties dan `relu`, zoals `tanh` of `sigmoid`.\n",
    "\n",
    "Welke invloed heeft het aantal epochs?"
   ]
  },
  {
   "cell_type": "markdown",
   "metadata": {},
   "source": [
    "###### Bij het toevoegen van lagen krijg ik een hogere accuracy terug. Hetzelfde gelf voor als er lagen worden weggehaald, ik krijg dan een lagere accuracy terug."
   ]
  },
  {
   "cell_type": "markdown",
   "metadata": {},
   "source": [
    "We kunnen dezelfde aanpak gebruiken voor andere data, bijvoorbeeld voor het herkennen van cijfers. We gebruiken de `MNist` dataset die bestaat uit plaatjes van cijfers. Ieder plaatje bestaat uit 28 x 28 pixels."
   ]
  },
  {
   "cell_type": "code",
   "execution_count": 10,
   "metadata": {},
   "outputs": [],
   "source": [
    "from keras.datasets import mnist\n",
    "\n",
    "(train_images, train_labels), (test_images, test_labels) = mnist.load_data()\n",
    "\n",
    "import warnings\n",
    "warnings.filterwarnings('ignore')"
   ]
  },
  {
   "cell_type": "code",
   "execution_count": 11,
   "metadata": {},
   "outputs": [
    {
     "data": {
      "text/plain": [
       "(60000, 28, 28)"
      ]
     },
     "execution_count": 11,
     "metadata": {},
     "output_type": "execute_result"
    }
   ],
   "source": [
    "train_images.shape"
   ]
  },
  {
   "cell_type": "code",
   "execution_count": 12,
   "metadata": {},
   "outputs": [
    {
     "data": {
      "text/plain": [
       "60000"
      ]
     },
     "execution_count": 12,
     "metadata": {},
     "output_type": "execute_result"
    }
   ],
   "source": [
    "len(train_labels)"
   ]
  },
  {
   "cell_type": "code",
   "execution_count": 13,
   "metadata": {},
   "outputs": [
    {
     "name": "stdout",
     "output_type": "stream",
     "text": [
      "[5 0 4 ... 5 6 8]\n"
     ]
    }
   ],
   "source": [
    "print(train_labels)"
   ]
  },
  {
   "cell_type": "markdown",
   "metadata": {},
   "source": [
    "Een eenvoudig neuraal netwerk heeft een array van inputwaarden nodig i.p.v. een 2D afbeelding.\n",
    "We maken van de inputs (waarden tussen 0 en 255) getallen tussen 0 en 1."
   ]
  },
  {
   "cell_type": "code",
   "execution_count": 14,
   "metadata": {},
   "outputs": [],
   "source": [
    "train_images = train_images.reshape((60000, 28 * 28)) # lijst van waarden i.p.v. 2D afbeelding\n",
    "train_images = train_images.astype('float32') / 255 # getallen tussen 0 en 1\n",
    "\n",
    "test_images = test_images.reshape((10000, 28 * 28))\n",
    "test_images = test_images.astype('float32') / 255"
   ]
  },
  {
   "cell_type": "markdown",
   "metadata": {},
   "source": [
    "Voor elk label (een cijfer) maken we een array met 10 waarden: 9 nullen en een één, waarbij de positie van de één aangeeft om welk cijfer het gaat (One hot encoding). Dit keer gebruiken we hiervoor de `keras` functie `to_categorical`."
   ]
  },
  {
   "cell_type": "code",
   "execution_count": 15,
   "metadata": {},
   "outputs": [
    {
     "name": "stdout",
     "output_type": "stream",
     "text": [
      "[[0. 0. 0. ... 0. 0. 0.]\n",
      " [1. 0. 0. ... 0. 0. 0.]\n",
      " [0. 0. 0. ... 0. 0. 0.]\n",
      " ...\n",
      " [0. 0. 0. ... 0. 0. 0.]\n",
      " [0. 0. 0. ... 0. 0. 0.]\n",
      " [0. 0. 0. ... 0. 1. 0.]]\n"
     ]
    }
   ],
   "source": [
    "from keras.utils import to_categorical\n",
    "\n",
    "train_labels = to_categorical(train_labels) \n",
    "test_labels = to_categorical(test_labels)\n",
    "\n",
    "print(train_labels)"
   ]
  },
  {
   "cell_type": "markdown",
   "metadata": {},
   "source": [
    "Maak nu een neuraal netwerk met twee lagen, een eerste laag met 512 neuronen en een output laag met 10 neuronen. Geef bij de eerste laag aan hoeveel inputs er zijn en wat de activatiefunctie is. De output laag heeft een `softmax` activatiefunctie."
   ]
  },
  {
   "cell_type": "code",
   "execution_count": 16,
   "metadata": {},
   "outputs": [],
   "source": [
    "network = Sequential()\n",
    "network.add(Dense(512, activation = 'relu', input_shape= (28 * 28, ))\n",
    ")\n",
    "network.add(Dense(10, activation = 'softmax'))"
   ]
  },
  {
   "cell_type": "markdown",
   "metadata": {},
   "source": [
    "compileer het netwerk."
   ]
  },
  {
   "cell_type": "code",
   "execution_count": 17,
   "metadata": {},
   "outputs": [],
   "source": [
    "network.compile(Adam(lr=0.01),'categorical_crossentropy',metrics=['accuracy'])"
   ]
  },
  {
   "cell_type": "markdown",
   "metadata": {},
   "source": [
    "train het netwerk 5 epochs met een batch_size van 128."
   ]
  },
  {
   "cell_type": "code",
   "execution_count": 18,
   "metadata": {},
   "outputs": [
    {
     "name": "stdout",
     "output_type": "stream",
     "text": [
      "Epoch 1/5\n",
      "469/469 [==============================] - 7s 6ms/step - loss: 0.2117 - accuracy: 0.9360\n",
      "Epoch 2/5\n",
      "469/469 [==============================] - 3s 6ms/step - loss: 0.1097 - accuracy: 0.9669\n",
      "Epoch 3/5\n",
      "469/469 [==============================] - 3s 6ms/step - loss: 0.0915 - accuracy: 0.9725\n",
      "Epoch 4/5\n",
      "469/469 [==============================] - 3s 6ms/step - loss: 0.0754 - accuracy: 0.9773\n",
      "Epoch 5/5\n",
      "469/469 [==============================] - 3s 6ms/step - loss: 0.0732 - accuracy: 0.9794\n"
     ]
    },
    {
     "data": {
      "text/plain": [
       "<keras.callbacks.History at 0x1ec18200040>"
      ]
     },
     "execution_count": 18,
     "metadata": {},
     "output_type": "execute_result"
    }
   ],
   "source": [
    "network.fit(train_images, train_labels, epochs = 5, batch_size = 128) "
   ]
  },
  {
   "cell_type": "markdown",
   "metadata": {},
   "source": [
    "Evalueer het netwerk op de test set."
   ]
  },
  {
   "cell_type": "code",
   "execution_count": 20,
   "metadata": {},
   "outputs": [
    {
     "name": "stdout",
     "output_type": "stream",
     "text": [
      "313/313 [==============================] - 3s 2ms/step - loss: 0.1250 - accuracy: 0.9712\n",
      "0.9711999893188477\n"
     ]
    }
   ],
   "source": [
    "test_loss, test_acc = network.evaluate(test_images, test_labels)\n",
    "print(test_acc)"
   ]
  },
  {
   "cell_type": "markdown",
   "metadata": {},
   "source": [
    "Experimenteer met verschillende netwerken. Varieer het aantal lagen, het aantal neuronen, de activatiefunties en het aantal epochs."
   ]
  },
  {
   "cell_type": "code",
   "execution_count": null,
   "metadata": {},
   "outputs": [],
   "source": []
  },
  {
   "cell_type": "code",
   "execution_count": null,
   "metadata": {},
   "outputs": [],
   "source": []
  },
  {
   "cell_type": "code",
   "execution_count": null,
   "metadata": {},
   "outputs": [],
   "source": []
  },
  {
   "cell_type": "code",
   "execution_count": null,
   "metadata": {},
   "outputs": [],
   "source": []
  }
 ],
 "metadata": {
  "kernelspec": {
   "display_name": "Python 3 (ipykernel)",
   "language": "python",
   "name": "python3"
  },
  "language_info": {
   "codemirror_mode": {
    "name": "ipython",
    "version": 3
   },
   "file_extension": ".py",
   "mimetype": "text/x-python",
   "name": "python",
   "nbconvert_exporter": "python",
   "pygments_lexer": "ipython3",
   "version": "3.10.6"
  }
 },
 "nbformat": 4,
 "nbformat_minor": 2
}
