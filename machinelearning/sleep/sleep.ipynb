{
 "cells": [
  {
   "cell_type": "markdown",
   "metadata": {},
   "source": [
    "## Tracy Owusu \n",
    "### 500819150"
   ]
  },
  {
   "cell_type": "markdown",
   "metadata": {},
   "source": [
    "## Table of context\n",
    "\n",
    "1. [Dataset](#Dataset)\n",
    "2. [Analyse probleem](#Analyse)\n",
    "3. [Voorspelling en methoden](#Voorspelling)\n",
    "4. [Preprocessing](#Preprocessing)\n",
    "5. [KNN](#KNN)\n",
    "6. [SVM](#SVM)\n",
    "7. [Logistic Regression](#Logistic)\n",
    "8. [Evaluatie/conclusie](#Evaluatie/conclusie)"
   ]
  },
  {
   "cell_type": "code",
   "execution_count": 1,
   "metadata": {},
   "outputs": [],
   "source": [
    "import pandas as pd\n",
    "from matplotlib import pyplot as plt\n",
    "import seaborn as sns\n",
    "from sklearn.model_selection import train_test_split\n",
    "from sklearn.neighbors import KNeighborsClassifier\n",
    "from sklearn.preprocessing import LabelEncoder\n",
    "from sklearn import metrics\n",
    "from sklearn.linear_model import LogisticRegression\n",
    "from sklearn.metrics import roc_curve\n",
    "from sklearn import svm"
   ]
  },
  {
   "cell_type": "markdown",
   "metadata": {},
   "source": [
    "## Dataset\n",
    "\n",
    "Deze dataset is een dataset over slaap gewoontes van mensen. Ik heb de dataset van [kaggle](https://www.kaggle.com/datasets/mlomuscio/sleepstudypilot)."
   ]
  },
  {
   "cell_type": "markdown",
   "metadata": {},
   "source": [
    "## Analyse probleem\n",
    "\n",
    "Voor dit experiment wil ik graag de voorspellen of mensen genoeg slaap hebben of niet. Het probleem is een classificatie probleem. Deze dataset bestaat uit 6 features en heeft 104 rijen aan data. Het heeft de features zijn **Enough, Hours, Phone reach, Phone time, Tired** en **Breakfast**. \n",
    "\n",
    "**Enough** geeft aan of de persoon wel of niet genoeg heeft geslapen.<br>\n",
    "**Hours** staat voor het gemiddelde uur slaap per week.<br>\n",
    "**PhoneReach** geeft aan of een persoon wel of niet mijn zijn/haar telefooon binnen handbereik slaapt.<br>\n",
    "**PhoneTime** staat voor als een persoon 30 minuten voor het in slaap vallen gebruikt.<br>\n",
    "**Tired** aan op een schaal van 1 tot 5 hoe moe mensen zijn door de dag heen, waarbij 1 staat voor helemaal niet moe en 5 voor heel erg moe.<br>\n",
    "**Breakfast** geeft aan of de persoon regelmatig ontbijt of niet."
   ]
  },
  {
   "cell_type": "code",
   "execution_count": 2,
   "metadata": {},
   "outputs": [
    {
     "data": {
      "text/html": [
       "<div>\n",
       "<style scoped>\n",
       "    .dataframe tbody tr th:only-of-type {\n",
       "        vertical-align: middle;\n",
       "    }\n",
       "\n",
       "    .dataframe tbody tr th {\n",
       "        vertical-align: top;\n",
       "    }\n",
       "\n",
       "    .dataframe thead th {\n",
       "        text-align: right;\n",
       "    }\n",
       "</style>\n",
       "<table border=\"1\" class=\"dataframe\">\n",
       "  <thead>\n",
       "    <tr style=\"text-align: right;\">\n",
       "      <th></th>\n",
       "      <th>Enough</th>\n",
       "      <th>Hours</th>\n",
       "      <th>PhoneReach</th>\n",
       "      <th>PhoneTime</th>\n",
       "      <th>Tired</th>\n",
       "      <th>Breakfast</th>\n",
       "    </tr>\n",
       "  </thead>\n",
       "  <tbody>\n",
       "    <tr>\n",
       "      <th>0</th>\n",
       "      <td>Yes</td>\n",
       "      <td>8.0</td>\n",
       "      <td>Yes</td>\n",
       "      <td>Yes</td>\n",
       "      <td>3</td>\n",
       "      <td>Yes</td>\n",
       "    </tr>\n",
       "    <tr>\n",
       "      <th>1</th>\n",
       "      <td>No</td>\n",
       "      <td>6.0</td>\n",
       "      <td>Yes</td>\n",
       "      <td>Yes</td>\n",
       "      <td>3</td>\n",
       "      <td>No</td>\n",
       "    </tr>\n",
       "    <tr>\n",
       "      <th>2</th>\n",
       "      <td>Yes</td>\n",
       "      <td>6.0</td>\n",
       "      <td>Yes</td>\n",
       "      <td>Yes</td>\n",
       "      <td>2</td>\n",
       "      <td>Yes</td>\n",
       "    </tr>\n",
       "    <tr>\n",
       "      <th>3</th>\n",
       "      <td>No</td>\n",
       "      <td>7.0</td>\n",
       "      <td>Yes</td>\n",
       "      <td>Yes</td>\n",
       "      <td>4</td>\n",
       "      <td>No</td>\n",
       "    </tr>\n",
       "    <tr>\n",
       "      <th>4</th>\n",
       "      <td>No</td>\n",
       "      <td>7.0</td>\n",
       "      <td>Yes</td>\n",
       "      <td>Yes</td>\n",
       "      <td>2</td>\n",
       "      <td>Yes</td>\n",
       "    </tr>\n",
       "  </tbody>\n",
       "</table>\n",
       "</div>"
      ],
      "text/plain": [
       "  Enough  Hours PhoneReach PhoneTime  Tired Breakfast\n",
       "0    Yes    8.0        Yes       Yes      3       Yes\n",
       "1     No    6.0        Yes       Yes      3        No\n",
       "2    Yes    6.0        Yes       Yes      2       Yes\n",
       "3     No    7.0        Yes       Yes      4        No\n",
       "4     No    7.0        Yes       Yes      2       Yes"
      ]
     },
     "execution_count": 2,
     "metadata": {},
     "output_type": "execute_result"
    }
   ],
   "source": [
    "data=pd.read_csv('SleepStudyData.csv')\n",
    "data.head()"
   ]
  },
  {
   "cell_type": "code",
   "execution_count": 3,
   "metadata": {},
   "outputs": [
    {
     "data": {
      "text/plain": [
       "Enough         object\n",
       "Hours         float64\n",
       "PhoneReach     object\n",
       "PhoneTime      object\n",
       "Tired           int64\n",
       "Breakfast      object\n",
       "dtype: object"
      ]
     },
     "execution_count": 3,
     "metadata": {},
     "output_type": "execute_result"
    }
   ],
   "source": [
    "data.dtypes"
   ]
  },
  {
   "cell_type": "markdown",
   "metadata": {},
   "source": [
    "## Voorspelling en methoden\n",
    "\n",
    "Ondanks ik met de het uitvoeren van de [t-toets](#http://localhost:8888/notebooks/statistics/t-toets.ipynb) de nul hypothese niet fout heb kunnen bewijzen bij alle onderdelen, heb denk ik dat alle onderdelen van belang zijn voor deze voorspelling. Voor dit experiment gebruik ik **knn, logistic regression** en **svm**.\n",
    "\n",
    "Bij de knn wordt er geclassifeerd door naar de dichtbijzijnde punten te kijken. De logistic regression werkt op een statistche manier. De svm werkt door een hypervlak te vinden waarbij de klassen zo groot mogelijk van elkaar gescheiden zijn. Ik denk dat de knn het beste zal doen."
   ]
  },
  {
   "cell_type": "code",
   "execution_count": 19,
   "metadata": {},
   "outputs": [
    {
     "data": {
      "text/plain": [
       "<AxesSubplot:xlabel='Tired', ylabel='Enough'>"
      ]
     },
     "execution_count": 19,
     "metadata": {},
     "output_type": "execute_result"
    },
    {
     "data": {
      "image/png": "[encoded data removed]",
      "text/plain": [
       "<Figure size 640x480 with 1 Axes>"
      ]
     },
     "metadata": {},
     "output_type": "display_data"
    }
   ],
   "source": [
    "x = data['Tired']\n",
    "\n",
    "mapping = {'Yes': 1, 'No': 0}\n",
    "\n",
    "y = data['Enough'].astype(str).replace(mapping)\n",
    "\n",
    "sns.regplot(x=x, y=y, data=data, logistic=True, ci=None)\n"
   ]
  },
  {
   "cell_type": "code",
   "execution_count": 20,
   "metadata": {},
   "outputs": [
    {
     "data": {
      "text/plain": [
       "<AxesSubplot:xlabel='Hours', ylabel='Enough'>"
      ]
     },
     "execution_count": 20,
     "metadata": {},
     "output_type": "execute_result"
    },
    {
     "data": {
      "image/png": "[encoded data removed]",
      "text/plain": [
       "<Figure size 640x480 with 1 Axes>"
      ]
     },
     "metadata": {},
     "output_type": "display_data"
    }
   ],
   "source": [
    "x = data['Hours']\n",
    "\n",
    "mapping = {'Yes': 1, 'No': 0}\n",
    "\n",
    "y = data['Enough'].astype(str).replace(mapping)\n",
    "\n",
    "sns.regplot(x=x, y=y, data=data, logistic=True, ci=None)"
   ]
  },
  {
   "cell_type": "code",
   "execution_count": 21,
   "metadata": {},
   "outputs": [
    {
     "name": "stdout",
     "output_type": "stream",
     "text": [
      "Eerst check ik of er geen 0 waardes zijn\n"
     ]
    },
    {
     "data": {
      "text/plain": [
       "Enough        0\n",
       "Hours         0\n",
       "PhoneReach    0\n",
       "PhoneTime     0\n",
       "Tired         0\n",
       "Breakfast     0\n",
       "dtype: int64"
      ]
     },
     "execution_count": 21,
     "metadata": {},
     "output_type": "execute_result"
    }
   ],
   "source": [
    "print(\"Eerst check ik of er geen 0 waardes zijn\")\n",
    "data[(data == 0)].count()"
   ]
  },
  {
   "cell_type": "code",
   "execution_count": 22,
   "metadata": {},
   "outputs": [
    {
     "name": "stdout",
     "output_type": "stream",
     "text": [
      "Ik check daarnaast ook of er NaN waardes zijn en vervang ze met het gemiddelde.\n",
      "Enough        Het aantal NaN values die in de dataset zijn: 0\n",
      "Hours         Het aantal NaN values die in de dataset zijn: 2\n",
      "PhoneReach    Het aantal NaN values die in de dataset zijn: 0\n",
      "PhoneTime     Het aantal NaN values die in de dataset zijn: 0\n",
      "Tired         Het aantal NaN values die in de dataset zijn: 0\n",
      "Breakfast     Het aantal NaN values die in de dataset zijn: 0\n",
      "dtype: object\n"
     ]
    }
   ],
   "source": [
    "print(\"Ik check daarnaast ook of er NaN waardes zijn en vervang ze met het gemiddelde.\")\n",
    "nan_counts = data.isnull().sum()\n",
    "print(\"Het aantal NaN values die in de dataset zijn: \" + nan_counts.astype(str))"
   ]
  },
  {
   "cell_type": "code",
   "execution_count": 23,
   "metadata": {},
   "outputs": [
    {
     "name": "stdout",
     "output_type": "stream",
     "text": [
      "Enough        Het aantal NaN values die in de dataset zijn: 0\n",
      "Hours         Het aantal NaN values die in de dataset zijn: 0\n",
      "PhoneReach    Het aantal NaN values die in de dataset zijn: 0\n",
      "PhoneTime     Het aantal NaN values die in de dataset zijn: 0\n",
      "Tired         Het aantal NaN values die in de dataset zijn: 0\n",
      "Breakfast     Het aantal NaN values die in de dataset zijn: 0\n",
      "dtype: object\n"
     ]
    }
   ],
   "source": [
    "mean = data['Hours'].mean()\n",
    "data['Hours'].fillna(mean, inplace=True)\n",
    "nan_counts = data.isnull().sum()\n",
    "print(\"Het aantal NaN values die in de dataset zijn: \" + nan_counts.astype(str))"
   ]
  },
  {
   "cell_type": "markdown",
   "metadata": {},
   "source": [
    "Omdat de knn gemaakt is om te werken met numerieke data gebruik ik de label encoder"
   ]
  },
  {
   "cell_type": "code",
   "execution_count": 24,
   "metadata": {},
   "outputs": [
    {
     "data": {
      "text/html": [
       "<div>\n",
       "<style scoped>\n",
       "    .dataframe tbody tr th:only-of-type {\n",
       "        vertical-align: middle;\n",
       "    }\n",
       "\n",
       "    .dataframe tbody tr th {\n",
       "        vertical-align: top;\n",
       "    }\n",
       "\n",
       "    .dataframe thead th {\n",
       "        text-align: right;\n",
       "    }\n",
       "</style>\n",
       "<table border=\"1\" class=\"dataframe\">\n",
       "  <thead>\n",
       "    <tr style=\"text-align: right;\">\n",
       "      <th></th>\n",
       "      <th>Enough</th>\n",
       "      <th>Hours</th>\n",
       "      <th>PhoneReach</th>\n",
       "      <th>PhoneTime</th>\n",
       "      <th>Tired</th>\n",
       "      <th>Breakfast</th>\n",
       "    </tr>\n",
       "  </thead>\n",
       "  <tbody>\n",
       "    <tr>\n",
       "      <th>0</th>\n",
       "      <td>Yes</td>\n",
       "      <td>8.0</td>\n",
       "      <td>Yes</td>\n",
       "      <td>Yes</td>\n",
       "      <td>3</td>\n",
       "      <td>Yes</td>\n",
       "    </tr>\n",
       "    <tr>\n",
       "      <th>1</th>\n",
       "      <td>No</td>\n",
       "      <td>6.0</td>\n",
       "      <td>Yes</td>\n",
       "      <td>Yes</td>\n",
       "      <td>3</td>\n",
       "      <td>No</td>\n",
       "    </tr>\n",
       "    <tr>\n",
       "      <th>2</th>\n",
       "      <td>Yes</td>\n",
       "      <td>6.0</td>\n",
       "      <td>Yes</td>\n",
       "      <td>Yes</td>\n",
       "      <td>2</td>\n",
       "      <td>Yes</td>\n",
       "    </tr>\n",
       "    <tr>\n",
       "      <th>3</th>\n",
       "      <td>No</td>\n",
       "      <td>7.0</td>\n",
       "      <td>Yes</td>\n",
       "      <td>Yes</td>\n",
       "      <td>4</td>\n",
       "      <td>No</td>\n",
       "    </tr>\n",
       "    <tr>\n",
       "      <th>4</th>\n",
       "      <td>No</td>\n",
       "      <td>7.0</td>\n",
       "      <td>Yes</td>\n",
       "      <td>Yes</td>\n",
       "      <td>2</td>\n",
       "      <td>Yes</td>\n",
       "    </tr>\n",
       "    <tr>\n",
       "      <th>...</th>\n",
       "      <td>...</td>\n",
       "      <td>...</td>\n",
       "      <td>...</td>\n",
       "      <td>...</td>\n",
       "      <td>...</td>\n",
       "      <td>...</td>\n",
       "    </tr>\n",
       "    <tr>\n",
       "      <th>99</th>\n",
       "      <td>No</td>\n",
       "      <td>7.0</td>\n",
       "      <td>Yes</td>\n",
       "      <td>Yes</td>\n",
       "      <td>2</td>\n",
       "      <td>Yes</td>\n",
       "    </tr>\n",
       "    <tr>\n",
       "      <th>100</th>\n",
       "      <td>No</td>\n",
       "      <td>7.0</td>\n",
       "      <td>No</td>\n",
       "      <td>Yes</td>\n",
       "      <td>3</td>\n",
       "      <td>Yes</td>\n",
       "    </tr>\n",
       "    <tr>\n",
       "      <th>101</th>\n",
       "      <td>Yes</td>\n",
       "      <td>8.0</td>\n",
       "      <td>Yes</td>\n",
       "      <td>Yes</td>\n",
       "      <td>3</td>\n",
       "      <td>Yes</td>\n",
       "    </tr>\n",
       "    <tr>\n",
       "      <th>102</th>\n",
       "      <td>Yes</td>\n",
       "      <td>7.0</td>\n",
       "      <td>Yes</td>\n",
       "      <td>Yes</td>\n",
       "      <td>2</td>\n",
       "      <td>Yes</td>\n",
       "    </tr>\n",
       "    <tr>\n",
       "      <th>103</th>\n",
       "      <td>Yes</td>\n",
       "      <td>6.0</td>\n",
       "      <td>Yes</td>\n",
       "      <td>Yes</td>\n",
       "      <td>3</td>\n",
       "      <td>Yes</td>\n",
       "    </tr>\n",
       "  </tbody>\n",
       "</table>\n",
       "<p>104 rows × 6 columns</p>\n",
       "</div>"
      ],
      "text/plain": [
       "    Enough  Hours PhoneReach PhoneTime  Tired Breakfast\n",
       "0      Yes    8.0        Yes       Yes      3       Yes\n",
       "1       No    6.0        Yes       Yes      3        No\n",
       "2      Yes    6.0        Yes       Yes      2       Yes\n",
       "3       No    7.0        Yes       Yes      4        No\n",
       "4       No    7.0        Yes       Yes      2       Yes\n",
       "..     ...    ...        ...       ...    ...       ...\n",
       "99      No    7.0        Yes       Yes      2       Yes\n",
       "100     No    7.0         No       Yes      3       Yes\n",
       "101    Yes    8.0        Yes       Yes      3       Yes\n",
       "102    Yes    7.0        Yes       Yes      2       Yes\n",
       "103    Yes    6.0        Yes       Yes      3       Yes\n",
       "\n",
       "[104 rows x 6 columns]"
      ]
     },
     "execution_count": 24,
     "metadata": {},
     "output_type": "execute_result"
    }
   ],
   "source": [
    "data"
   ]
  },
  {
   "cell_type": "code",
   "execution_count": 25,
   "metadata": {},
   "outputs": [
    {
     "data": {
      "text/html": [
       "<div>\n",
       "<style scoped>\n",
       "    .dataframe tbody tr th:only-of-type {\n",
       "        vertical-align: middle;\n",
       "    }\n",
       "\n",
       "    .dataframe tbody tr th {\n",
       "        vertical-align: top;\n",
       "    }\n",
       "\n",
       "    .dataframe thead th {\n",
       "        text-align: right;\n",
       "    }\n",
       "</style>\n",
       "<table border=\"1\" class=\"dataframe\">\n",
       "  <thead>\n",
       "    <tr style=\"text-align: right;\">\n",
       "      <th></th>\n",
       "      <th>Enough</th>\n",
       "      <th>Hours</th>\n",
       "      <th>PhoneReach</th>\n",
       "      <th>PhoneTime</th>\n",
       "      <th>Tired</th>\n",
       "      <th>Breakfast</th>\n",
       "    </tr>\n",
       "  </thead>\n",
       "  <tbody>\n",
       "    <tr>\n",
       "      <th>0</th>\n",
       "      <td>1</td>\n",
       "      <td>8.0</td>\n",
       "      <td>1</td>\n",
       "      <td>1</td>\n",
       "      <td>3</td>\n",
       "      <td>1</td>\n",
       "    </tr>\n",
       "    <tr>\n",
       "      <th>1</th>\n",
       "      <td>0</td>\n",
       "      <td>6.0</td>\n",
       "      <td>1</td>\n",
       "      <td>1</td>\n",
       "      <td>3</td>\n",
       "      <td>0</td>\n",
       "    </tr>\n",
       "    <tr>\n",
       "      <th>2</th>\n",
       "      <td>1</td>\n",
       "      <td>6.0</td>\n",
       "      <td>1</td>\n",
       "      <td>1</td>\n",
       "      <td>2</td>\n",
       "      <td>1</td>\n",
       "    </tr>\n",
       "    <tr>\n",
       "      <th>3</th>\n",
       "      <td>0</td>\n",
       "      <td>7.0</td>\n",
       "      <td>1</td>\n",
       "      <td>1</td>\n",
       "      <td>4</td>\n",
       "      <td>0</td>\n",
       "    </tr>\n",
       "    <tr>\n",
       "      <th>4</th>\n",
       "      <td>0</td>\n",
       "      <td>7.0</td>\n",
       "      <td>1</td>\n",
       "      <td>1</td>\n",
       "      <td>2</td>\n",
       "      <td>1</td>\n",
       "    </tr>\n",
       "    <tr>\n",
       "      <th>...</th>\n",
       "      <td>...</td>\n",
       "      <td>...</td>\n",
       "      <td>...</td>\n",
       "      <td>...</td>\n",
       "      <td>...</td>\n",
       "      <td>...</td>\n",
       "    </tr>\n",
       "    <tr>\n",
       "      <th>99</th>\n",
       "      <td>0</td>\n",
       "      <td>7.0</td>\n",
       "      <td>1</td>\n",
       "      <td>1</td>\n",
       "      <td>2</td>\n",
       "      <td>1</td>\n",
       "    </tr>\n",
       "    <tr>\n",
       "      <th>100</th>\n",
       "      <td>0</td>\n",
       "      <td>7.0</td>\n",
       "      <td>0</td>\n",
       "      <td>1</td>\n",
       "      <td>3</td>\n",
       "      <td>1</td>\n",
       "    </tr>\n",
       "    <tr>\n",
       "      <th>101</th>\n",
       "      <td>1</td>\n",
       "      <td>8.0</td>\n",
       "      <td>1</td>\n",
       "      <td>1</td>\n",
       "      <td>3</td>\n",
       "      <td>1</td>\n",
       "    </tr>\n",
       "    <tr>\n",
       "      <th>102</th>\n",
       "      <td>1</td>\n",
       "      <td>7.0</td>\n",
       "      <td>1</td>\n",
       "      <td>1</td>\n",
       "      <td>2</td>\n",
       "      <td>1</td>\n",
       "    </tr>\n",
       "    <tr>\n",
       "      <th>103</th>\n",
       "      <td>1</td>\n",
       "      <td>6.0</td>\n",
       "      <td>1</td>\n",
       "      <td>1</td>\n",
       "      <td>3</td>\n",
       "      <td>1</td>\n",
       "    </tr>\n",
       "  </tbody>\n",
       "</table>\n",
       "<p>104 rows × 6 columns</p>\n",
       "</div>"
      ],
      "text/plain": [
       "     Enough  Hours  PhoneReach  PhoneTime  Tired  Breakfast\n",
       "0         1    8.0           1          1      3          1\n",
       "1         0    6.0           1          1      3          0\n",
       "2         1    6.0           1          1      2          1\n",
       "3         0    7.0           1          1      4          0\n",
       "4         0    7.0           1          1      2          1\n",
       "..      ...    ...         ...        ...    ...        ...\n",
       "99        0    7.0           1          1      2          1\n",
       "100       0    7.0           0          1      3          1\n",
       "101       1    8.0           1          1      3          1\n",
       "102       1    7.0           1          1      2          1\n",
       "103       1    6.0           1          1      3          1\n",
       "\n",
       "[104 rows x 6 columns]"
      ]
     },
     "execution_count": 25,
     "metadata": {},
     "output_type": "execute_result"
    }
   ],
   "source": [
    "le = LabelEncoder()\n",
    "\n",
    "selectect_columns = ['Enough', 'PhoneReach', 'PhoneTime', 'Breakfast']\n",
    "\n",
    "for col in selectect_columns:\n",
    "    data[col] = le.fit_transform(data[col])\n",
    "\n",
    "data"
   ]
  },
  {
   "cell_type": "code",
   "execution_count": 26,
   "metadata": {},
   "outputs": [
    {
     "data": {
      "image/png": "[encoded data removed]",
      "text/plain": [
       "<Figure size 640x480 with 2 Axes>"
      ]
     },
     "metadata": {},
     "output_type": "display_data"
    },
    {
     "name": "stdout",
     "output_type": "stream",
     "text": [
      "aan de correlatie matrix is er te zien dat tired het meest effect heeft op enough en ook hours.\n"
     ]
    }
   ],
   "source": [
    "cor = data.corr()\n",
    "sns.heatmap(cor, annot=True)\n",
    "plt.show()\n",
    "\n",
    "print(\"aan de correlatie matrix is er te zien dat tired het meest effect heeft op enough en ook hours.\")"
   ]
  },
  {
   "cell_type": "markdown",
   "metadata": {},
   "source": [
    "## Preprocessing"
   ]
  },
  {
   "cell_type": "code",
   "execution_count": 27,
   "metadata": {},
   "outputs": [],
   "source": [
    "x = data.drop([\"Enough\"], axis = 1)\n",
    "y = data['Enough']"
   ]
  },
  {
   "cell_type": "code",
   "execution_count": 28,
   "metadata": {},
   "outputs": [],
   "source": [
    "x_train, x_test, y_train, y_test = train_test_split(x, y, test_size=0.2, random_state=6)"
   ]
  },
  {
   "cell_type": "markdown",
   "metadata": {},
   "source": [
    "## KNN"
   ]
  },
  {
   "cell_type": "code",
   "execution_count": 20,
   "metadata": {},
   "outputs": [
    {
     "name": "stderr",
     "output_type": "stream",
     "text": [
      "C:\\Users\\misst\\aai-env\\lib\\site-packages\\sklearn\\neighbors\\_classification.py:228: FutureWarning: Unlike other reduction functions (e.g. `skew`, `kurtosis`), the default behavior of `mode` typically preserves the axis it acts along. In SciPy 1.11.0, this behavior will change: the default value of `keepdims` will become False, the `axis` over which the statistic is taken will be eliminated, and the value None will no longer be accepted. Set `keepdims` to True or False to avoid this warning.\n",
      "  mode, _ = stats.mode(_y[neigh_ind, k], axis=1)\n"
     ]
    },
    {
     "data": {
      "text/plain": [
       "0.7619047619047619"
      ]
     },
     "execution_count": 20,
     "metadata": {},
     "output_type": "execute_result"
    }
   ],
   "source": [
    "knn_model = KNeighborsClassifier()\n",
    "knn_model.fit(x_train, y_train)\n",
    "knn_pred = knn_model.predict(x_test)\n",
    "knn_score = metrics.accuracy_score(knn_pred, y_test)\n",
    "knn_score"
   ]
  },
  {
   "cell_type": "markdown",
   "metadata": {},
   "source": [
    "### SVM"
   ]
  },
  {
   "cell_type": "code",
   "execution_count": 21,
   "metadata": {},
   "outputs": [
    {
     "data": {
      "text/plain": [
       "0.7619047619047619"
      ]
     },
     "execution_count": 21,
     "metadata": {},
     "output_type": "execute_result"
    }
   ],
   "source": [
    "svm_model = svm.SVC(kernel='linear',  probability=True)\n",
    "svm_model.fit(x_train,y_train)\n",
    "svm_pred = svm_model.predict(x_test)\n",
    "svm_score = metrics.accuracy_score(svm_pred, y_test)\n",
    "svm_score"
   ]
  },
  {
   "cell_type": "markdown",
   "metadata": {},
   "source": [
    "## Logistic regression"
   ]
  },
  {
   "cell_type": "code",
   "execution_count": 32,
   "metadata": {},
   "outputs": [
    {
     "data": {
      "text/plain": [
       "0.7142857142857143"
      ]
     },
     "execution_count": 32,
     "metadata": {},
     "output_type": "execute_result"
    }
   ],
   "source": [
    "lr_model = LogisticRegression()\n",
    "lr_model.fit(x_train, y_train)\n",
    "lr_pred = lr_model.predict(x_test) \n",
    "lr_score = metrics.accuracy_score(lr_pred, y_test)\n",
    "lr_score"
   ]
  },
  {
   "cell_type": "markdown",
   "metadata": {},
   "source": [
    "## Evaluatie/conclusie"
   ]
  },
  {
   "cell_type": "code",
   "execution_count": 33,
   "metadata": {},
   "outputs": [
    {
     "name": "stdout",
     "output_type": "stream",
     "text": [
      "knn: 0.7619047619047619\n",
      "svm: 0.7619047619047619\n",
      "logistic regression: 0.7142857142857143\n"
     ]
    }
   ],
   "source": [
    "print(\"knn: \" + str(knn_score))\n",
    "print(\"svm: \" + str(svm_score))\n",
    "print(\"logistic regression: \" + str(lr_score))"
   ]
  },
  {
   "cell_type": "code",
   "execution_count": 34,
   "metadata": {},
   "outputs": [
    {
     "name": "stdout",
     "output_type": "stream",
     "text": [
      "AUC:  0.8557692307692307\n"
     ]
    },
    {
     "data": {
      "image/png": "[encoded data removed]",
      "text/plain": [
       "<Figure size 640x480 with 1 Axes>"
      ]
     },
     "metadata": {},
     "output_type": "display_data"
    }
   ],
   "source": [
    "probs = knn_model.predict_proba(x_test)[::,1]\n",
    "fpr, tpr, _ = roc_curve(y_test, probs)\n",
    "auc = metrics.roc_auc_score(y_test, probs)\n",
    "print(\"AUC: \", auc)\n",
    "plt.plot(fpr, tpr)\n",
    "plt.xlabel('False Positive Rate')\n",
    "plt.ylabel('True Positive Rate')\n",
    "plt.title('ROC curve')\n",
    "plt.show()"
   ]
  },
  {
   "cell_type": "code",
   "execution_count": 35,
   "metadata": {},
   "outputs": [
    {
     "name": "stdout",
     "output_type": "stream",
     "text": [
      "AUC:  0.8557692307692307\n"
     ]
    },
    {
     "data": {
      "image/png": "[encoded data removed]",
      "text/plain": [
       "<Figure size 640x480 with 1 Axes>"
      ]
     },
     "metadata": {},
     "output_type": "display_data"
    }
   ],
   "source": [
    "probs = svm_model.predict_proba(x_test)[::,1]\n",
    "fpr, tpr, _ = roc_curve(y_test, probs)\n",
    "auc = metrics.roc_auc_score(y_test, probs)\n",
    "print(\"AUC: \", auc)\n",
    "plt.plot(fpr, tpr)\n",
    "plt.xlabel('False Positive Rate')\n",
    "plt.ylabel('True Positive Rate')\n",
    "plt.title('ROC curve')\n",
    "plt.show()"
   ]
  },
  {
   "cell_type": "code",
   "execution_count": 36,
   "metadata": {},
   "outputs": [
    {
     "name": "stdout",
     "output_type": "stream",
     "text": [
      "AUC:  0.8653846153846154\n"
     ]
    },
    {
     "data": {
      "image/png": "[encoded data removed]",
      "text/plain": [
       "<Figure size 640x480 with 1 Axes>"
      ]
     },
     "metadata": {},
     "output_type": "display_data"
    }
   ],
   "source": [
    "probs = lr_model.predict_proba(x_test)[::,1]\n",
    "fpr, tpr, _ = roc_curve(y_test, probs)\n",
    "auc = metrics.roc_auc_score(y_test, probs)\n",
    "print(\"AUC: \", auc)\n",
    "plt.plot(fpr, tpr)\n",
    "plt.xlabel('False Positive Rate')\n",
    "plt.ylabel('True Positive Rate')\n",
    "plt.title('ROC curve')\n",
    "plt.show()"
   ]
  },
  {
   "cell_type": "markdown",
   "metadata": {},
   "source": [
    "Als ik alle auc scores vergelijk kom ik uit dat de linear regression hoogst waarschijnlijk het beste resultaat heeft geleverd. Alle classifiers geven een goed resultaat."
   ]
  }
 ],
 "metadata": {
  "kernelspec": {
   "display_name": "Python 3 (ipykernel)",
   "language": "python",
   "name": "python3"
  },
  "language_info": {
   "codemirror_mode": {
    "name": "ipython",
    "version": 3
   },
   "file_extension": ".py",
   "mimetype": "text/x-python",
   "name": "python",
   "nbconvert_exporter": "python",
   "pygments_lexer": "ipython3",
   "version": "3.10.6"
  },
  "vscode": {
   "interpreter": {
    "hash": "6efcb8d13e7bff3a5cb185b7c6b496f42706a5a76084ce8c1c0b1490faf32e0c"
   }
  }
 },
 "nbformat": 4,
 "nbformat_minor": 2
}
