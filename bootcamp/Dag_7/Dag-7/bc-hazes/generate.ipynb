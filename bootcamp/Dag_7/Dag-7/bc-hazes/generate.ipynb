{
 "cells": [
  {
   "cell_type": "code",
   "execution_count": 8,
   "metadata": {},
   "outputs": [],
   "source": [
    "import numpy as np\n",
    "\n",
    "from keras.models import Sequential\n",
    "from keras.layers import LSTM, Dense, Activation, GRU\n",
    "from keras.callbacks import ModelCheckpoint\n",
    "from random import randint\n",
    "from keras.models import model_from_json\n"
   ]
  },
  {
   "cell_type": "code",
   "execution_count": 9,
   "metadata": {},
   "outputs": [
    {
     "name": "stdout",
     "output_type": "stream",
     "text": [
      "Loaded a corpus of 41701 characters\n"
     ]
    }
   ],
   "source": [
    "with open(\"hazes.txt\") as corpus_file:\n",
    "    corpus = corpus_file.read()\n",
    "    corpus = corpus.lower()\n",
    "print(\"Loaded a corpus of {0} characters\".format(len(corpus)))"
   ]
  },
  {
   "cell_type": "code",
   "execution_count": 10,
   "metadata": {},
   "outputs": [
    {
     "name": "stdout",
     "output_type": "stream",
     "text": [
      "Model: \"sequential\"\n",
      "_________________________________________________________________\n",
      " Layer (type)                Output Shape              Param #   \n",
      "=================================================================\n",
      " lstm (LSTM)                 (None, 128)               86016     \n",
      "                                                                 \n",
      " dense (Dense)               (None, 39)                5031      \n",
      "                                                                 \n",
      " activation (Activation)     (None, 39)                0         \n",
      "                                                                 \n",
      "=================================================================\n",
      "Total params: 91,047\n",
      "Trainable params: 91,047\n",
      "Non-trainable params: 0\n",
      "_________________________________________________________________\n"
     ]
    }
   ],
   "source": [
    "from keras.models import model_from_json\n",
    "\n",
    "# Build our network from loaded architecture and weights\n",
    "\n",
    "from tensorflow import keras\n",
    "model = keras.models.load_model('model.h5')\n",
    "\n",
    "\n",
    "model.load_weights('weights-20.hdf5')\n",
    "model.compile(loss='categorical_crossentropy', optimizer='adam')\n",
    "\n",
    "model.summary()\n"
   ]
  },
  {
   "cell_type": "code",
   "execution_count": 11,
   "metadata": {},
   "outputs": [],
   "source": [
    "# Get a unique identifier for each char in the corpus, then make some dicts to ease encoding and decoding\n",
    "\n",
    "chars = sorted(list(set(corpus)))\n",
    "num_chars = len(chars)\n",
    "enc = {c: i for i, c in enumerate(chars)}\n",
    "dec = {i: c for i, c in enumerate(chars)}"
   ]
  },
  {
   "cell_type": "code",
   "execution_count": 12,
   "metadata": {},
   "outputs": [],
   "source": [
    "def sample(preds, temperature=1.0):\n",
    "  if temperature <= 0:\n",
    "    return np.argmax(preds)\n",
    "  preds = np.asarray(preds).astype('float64')\n",
    "  preds = np.log(preds) / temperature\n",
    "  exp_preds = np.exp(preds)\n",
    "  preds = exp_preds / np.sum(exp_preds)\n",
    "  probas = np.random.multinomial(1, preds, 1)\n",
    "  return np.argmax(probas)"
   ]
  },
  {
   "cell_type": "code",
   "execution_count": 13,
   "metadata": {},
   "outputs": [],
   "source": [
    "def generate(seed_pattern):\n",
    "        X = np.zeros((1, sentence_length, num_chars), dtype=bool)\n",
    "        #print(X.shape)\n",
    "        for i, character in enumerate(seed_pattern):\n",
    "            X[0, i, encoding[character]] = 1\n",
    "        \n",
    "        generated_text = \"\"\n",
    "        for i in range(500):\n",
    "            # even de temperatuur toevoegen.\n",
    "            prediction = sample(model.predict(X, verbose=0)[0],0.5)\n",
    "            generated_text += decoding[prediction]\n",
    "\n",
    "            activations = np.zeros((1, 1, num_chars), dtype=bool)\n",
    "            activations[0, 0, prediction] = 1\n",
    "            X = np.concatenate((X[:, 1:, :], activations), axis=1)\n",
    "\n",
    "        return generated_text\n",
    "\n",
    "def make_seed(seed_phrase=\"\"):\n",
    "        if seed_phrase:\n",
    "            phrase_length = len(seed_phrase)\n",
    "            pattern = \"\"\n",
    "            for i in range (0, sentence_length):\n",
    "                pattern += seed_phrase[i % phrase_length]\n",
    "        else:\n",
    "            seed = randint(0, corpus_length - sentence_length)\n",
    "            pattern = abba_corpus[seed:seed + sentence_length]\n",
    "\n",
    "        return pattern"
   ]
  },
  {
   "cell_type": "code",
   "execution_count": 14,
   "metadata": {
    "scrolled": true
   },
   "outputs": [
    {
     "name": "stdout",
     "output_type": "stream",
     "text": [
      "ik geloof in mezelf \n",
      "dit iene verstoch\n",
      "acht wat je nu voorbij\n",
      "ik wact en een ardeg van\n",
      "je hoog mijn noop\n",
      "aar we wat jij voor mij\n",
      "\n",
      "het is een om vorgen\n",
      "ik heb je nu niet me alleen\n",
      "\n",
      "hoer van jouw voor mij\n",
      "met een stieks al ze nu niet meeren\n",
      "\n",
      "ik wat voor jou en komten\n",
      "ik heb je alles wat je miet daaromen op\n",
      "m`n nietstomden staar woor je staak je niet\n",
      "\n",
      "lang een meen\n",
      "en kerder is me heten\n",
      "moch een afder vorrachten\n",
      "mien weer aan mijn beder\n",
      "want die straas maar jouw ik de korten genaan\n",
      "ze wag je alleen\n",
      "ik wil toch een bere\n"
     ]
    }
   ],
   "source": [
    "sentence_length = 20\n",
    "seed = make_seed('ik geloof in mezelf ')\n",
    "print(seed)\n",
    "txt =  generate(seed)\n",
    "print(txt)"
   ]
  },
  {
   "cell_type": "markdown",
   "metadata": {},
   "source": [
    "## Sample song\n",
    "In the bard and show you on your lovelight and i can't get the mowner i'm a marion an and every mind, there's a boot"
   ]
  },
  {
   "cell_type": "code",
   "execution_count": 16,
   "metadata": {},
   "outputs": [
    {
     "name": "stdout",
     "output_type": "stream",
     "text": [
      "in the bard and show you on your lovelight and i cant get the mowner im a marion an and every mind, theres a boot in the bard and show you on your lovelight and i cant get the mowner im a marion an and every mind, theres a boot in the bard and show you on your lovelight and i cant get the mowner im a marion an and every mind, theres a boot in the bard and show you on your lovelight and i cant get the mowner im a marion an and every mind, theres a boot in the bard and show you on your lovelight and i cant get the mowner im a marion an and every mind, theres a boot in the bard and show you on your lovelight and i cant get the mowner im a marion an and every mind, theres a boot in the bard and show you on your lovelight and i cant get the mowner im a marion an and every mind, theres a boot in the bard and show you on your lovelight and i cant get the mowner im a marion an and every mind, theres a boot in the bard and show you on your lovelight and i cant get the mowner im a marion an and \n",
      "geweeld\n",
      "dat ik nu zij wel om meer met vroegen\n",
      "toch bent je nu bij je met een verwient gaat met met en echt nooit een meer in niet laam\n",
      "je bent niet met een ander aan jou getouge want ik wel vergeed\n",
      "het is je met me noet\n",
      "\n",
      "ik had nooit een ander ik weg van je heter\n",
      "je bent zi het leven\n",
      "in dat meer een vereren\n",
      "wend ik blijf mijn laat\n",
      "heb wort ik nog nooit maak op\n",
      "nu zig ik toch een aan jij alleen\n",
      "\n",
      "heb is een beder haar mijn verdachten\n",
      "zin genacht\n",
      "noe gang nie zien\n",
      "\n",
      "zo bent gevellen\n",
      "ze bent genu zo \n"
     ]
    }
   ],
   "source": [
    "sentence_length = 1000\n",
    "seed = make_seed('in the bard and show you on your lovelight and i cant get the mowner im a marion an and every mind, theres a boot ')\n",
    "print(seed)\n",
    "txt =  generate(seed)\n",
    "print(txt)"
   ]
  },
  {
   "cell_type": "code",
   "execution_count": null,
   "metadata": {},
   "outputs": [],
   "source": []
  }
 ],
 "metadata": {
  "kernelspec": {
   "display_name": "Python 3 (ipykernel)",
   "language": "python",
   "name": "python3"
  },
  "language_info": {
   "codemirror_mode": {
    "name": "ipython",
    "version": 3
   },
   "file_extension": ".py",
   "mimetype": "text/x-python",
   "name": "python",
   "nbconvert_exporter": "python",
   "pygments_lexer": "ipython3",
   "version": "3.10.6"
  }
 },
 "nbformat": 4,
 "nbformat_minor": 4
}
