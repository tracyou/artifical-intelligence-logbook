{
 "cells": [
  {
   "cell_type": "code",
   "execution_count": 12,
   "metadata": {},
   "outputs": [
    {
     "name": "stdout",
     "output_type": "stream",
     "text": [
      "No GPU found\n"
     ]
    }
   ],
   "source": [
    "import os\n",
    "os.environ['CUDA_VISIBLE_DEVICES'] = '-1'\n",
    "import tensorflow as tf\n",
    "if tf.test.gpu_device_name():\n",
    "    print('GPU found')\n",
    "else:\n",
    "    print(\"No GPU found\")"
   ]
  },
  {
   "cell_type": "code",
   "execution_count": 13,
   "metadata": {
    "pycharm": {
     "is_executing": false
    }
   },
   "outputs": [],
   "source": [
    "import numpy as np\n",
    "from keras.models import Sequential\n",
    "from keras.layers import LSTM, Dense, Activation, GRU\n",
    "from keras.callbacks import ModelCheckpoint"
   ]
  },
  {
   "cell_type": "code",
   "execution_count": 14,
   "metadata": {
    "pycharm": {
     "is_executing": false
    }
   },
   "outputs": [
    {
     "name": "stdout",
     "output_type": "stream",
     "text": [
      "Loaded a corpus of 41701 characters\n"
     ]
    }
   ],
   "source": [
    "with open(\"hazes.txt\") as corpus_file:\n",
    "    corpus = corpus_file.read()\n",
    "    corpus = corpus.lower()\n",
    "print(\"Loaded a corpus of {0} characters\".format(len(corpus)))"
   ]
  },
  {
   "cell_type": "code",
   "execution_count": 15,
   "metadata": {
    "pycharm": {
     "is_executing": false
    }
   },
   "outputs": [
    {
     "name": "stdout",
     "output_type": "stream",
     "text": [
      "['\\n', ' ', '\"', \"'\", '(', ')', ',', '.', '1', '2', ':', ';', '?', '`', 'a', 'b', 'c', 'd', 'e', 'f', 'g', 'h', 'i', 'j', 'k', 'l', 'm', 'n', 'o', 'p', 'r', 's', 't', 'u', 'v', 'w', 'x', 'y', 'z']\n",
      "Our corpus contains 39 unique characters.\n",
      "{'\\n': 0, ' ': 1, '\"': 2, \"'\": 3, '(': 4, ')': 5, ',': 6, '.': 7, '1': 8, '2': 9, ':': 10, ';': 11, '?': 12, '`': 13, 'a': 14, 'b': 15, 'c': 16, 'd': 17, 'e': 18, 'f': 19, 'g': 20, 'h': 21, 'i': 22, 'j': 23, 'k': 24, 'l': 25, 'm': 26, 'n': 27, 'o': 28, 'p': 29, 'r': 30, 's': 31, 't': 32, 'u': 33, 'v': 34, 'w': 35, 'x': 36, 'y': 37, 'z': 38}\n"
     ]
    }
   ],
   "source": [
    "# Get a unique identifier for each char in the corpus, then make some dicts to ease encoding and decoding\n",
    "chars = sorted(list(set(corpus)))\n",
    "num_chars = len(chars)\n",
    "encoding = {c: i for i, c in enumerate(chars)}\n",
    "decoding = {i: c for i, c in enumerate(chars)}\n",
    "\n",
    "print(chars)\n",
    "print(\"Our corpus contains {0} unique characters.\".format(num_chars))\n",
    "print(encoding)"
   ]
  },
  {
   "cell_type": "code",
   "execution_count": 16,
   "metadata": {
    "pycharm": {
     "is_executing": false
    }
   },
   "outputs": [],
   "source": [
    "# it slices, it dices, it makes julienned datasets!\n",
    "# chop up our data into X and y, slice into roughly (num_chars / skip) overlapping 'sentences'\n",
    "# of length sentence_length, and encode the chars\n",
    "sentence_length = 20\n",
    "skip = 1\n",
    "X_data = []\n",
    "y_data = []\n",
    "\n",
    "for i in range (0, len(corpus) - sentence_length, skip):\n",
    "    sentence = corpus[i:i + sentence_length]\n",
    "    next_char = corpus[i + sentence_length]\n",
    "    X_data.append([encoding[char] for char in sentence])\n",
    "    y_data.append(encoding[next_char])"
   ]
  },
  {
   "cell_type": "code",
   "execution_count": 17,
   "metadata": {
    "pycharm": {
     "is_executing": false
    }
   },
   "outputs": [
    {
     "name": "stdout",
     "output_type": "stream",
     "text": [
      "41681\n"
     ]
    }
   ],
   "source": [
    "print(len(X_data))"
   ]
  },
  {
   "cell_type": "code",
   "execution_count": 18,
   "metadata": {
    "pycharm": {
     "is_executing": false
    }
   },
   "outputs": [
    {
     "data": {
      "text/plain": [
       "([3, 27, 1, 38, 28, 28, 27, 1, 35, 14, 31, 1, 20, 22, 31, 32, 18, 30, 18, 27],\n",
       " 1)"
      ]
     },
     "execution_count": 18,
     "metadata": {},
     "output_type": "execute_result"
    }
   ],
   "source": [
    "X_data[1], y_data[1]"
   ]
  },
  {
   "cell_type": "code",
   "execution_count": 19,
   "metadata": {
    "pycharm": {
     "is_executing": false
    }
   },
   "outputs": [
    {
     "data": {
      "text/plain": [
       "([27, 1, 38, 28, 28, 27, 1, 35, 14, 31, 1, 20, 22, 31, 32, 18, 30, 18, 27, 1],\n",
       " 23)"
      ]
     },
     "execution_count": 19,
     "metadata": {},
     "output_type": "execute_result"
    }
   ],
   "source": [
    "X_data[2], y_data[2]"
   ]
  },
  {
   "cell_type": "code",
   "execution_count": 20,
   "metadata": {
    "pycharm": {
     "is_executing": false
    }
   },
   "outputs": [
    {
     "name": "stdout",
     "output_type": "stream",
     "text": [
      "Sliced our corpus into 41681 sentences of length 20\n"
     ]
    }
   ],
   "source": [
    "num_sentences = len(X_data)\n",
    "print(\"Sliced our corpus into {0} sentences of length {1}\".format(num_sentences, sentence_length))"
   ]
  },
  {
   "cell_type": "code",
   "execution_count": 21,
   "metadata": {
    "pycharm": {
     "is_executing": false
    }
   },
   "outputs": [
    {
     "name": "stdout",
     "output_type": "stream",
     "text": [
      "Vectorizing X and y...\n"
     ]
    },
    {
     "name": "stderr",
     "output_type": "stream",
     "text": [
      "C:\\Users\\misst\\AppData\\Local\\Temp\\ipykernel_7484\\2224887287.py:2: DeprecationWarning: `np.bool` is a deprecated alias for the builtin `bool`. To silence this warning, use `bool` by itself. Doing this will not modify any behavior and is safe. If you specifically wanted the numpy scalar type, use `np.bool_` here.\n",
      "Deprecated in NumPy 1.20; for more details and guidance: https://numpy.org/devdocs/release/1.20.0-notes.html#deprecations\n",
      "  X = np.zeros((num_sentences, sentence_length, num_chars), dtype=np.bool)\n",
      "C:\\Users\\misst\\AppData\\Local\\Temp\\ipykernel_7484\\2224887287.py:3: DeprecationWarning: `np.bool` is a deprecated alias for the builtin `bool`. To silence this warning, use `bool` by itself. Doing this will not modify any behavior and is safe. If you specifically wanted the numpy scalar type, use `np.bool_` here.\n",
      "Deprecated in NumPy 1.20; for more details and guidance: https://numpy.org/devdocs/release/1.20.0-notes.html#deprecations\n",
      "  y = np.zeros((num_sentences, num_chars), dtype=np.bool)\n"
     ]
    }
   ],
   "source": [
    "print(\"Vectorizing X and y...\")\n",
    "X = np.zeros((num_sentences, sentence_length, num_chars), dtype=np.bool)\n",
    "y = np.zeros((num_sentences, num_chars), dtype=np.bool)\n",
    "for i, sentence in enumerate(X_data):\n",
    "    for t, encoded_char in enumerate(sentence):\n",
    "        X[i, t, encoded_char] = 1\n",
    "    y[i, y_data[i]] = 1"
   ]
  },
  {
   "cell_type": "code",
   "execution_count": 22,
   "metadata": {
    "pycharm": {
     "is_executing": false
    }
   },
   "outputs": [
    {
     "data": {
      "text/plain": [
       "array([[False, False, False,  True, False, False, False, False, False,\n",
       "        False, False, False, False, False, False, False, False, False,\n",
       "        False, False, False, False, False, False, False, False, False,\n",
       "        False, False, False, False, False, False, False, False, False,\n",
       "        False, False, False],\n",
       "       [False, False, False, False, False, False, False, False, False,\n",
       "        False, False, False, False, False, False, False, False, False,\n",
       "        False, False, False, False, False, False, False, False, False,\n",
       "         True, False, False, False, False, False, False, False, False,\n",
       "        False, False, False],\n",
       "       [False,  True, False, False, False, False, False, False, False,\n",
       "        False, False, False, False, False, False, False, False, False,\n",
       "        False, False, False, False, False, False, False, False, False,\n",
       "        False, False, False, False, False, False, False, False, False,\n",
       "        False, False, False],\n",
       "       [False, False, False, False, False, False, False, False, False,\n",
       "        False, False, False, False, False, False, False, False, False,\n",
       "        False, False, False, False, False, False, False, False, False,\n",
       "        False, False, False, False, False, False, False, False, False,\n",
       "        False, False,  True],\n",
       "       [False, False, False, False, False, False, False, False, False,\n",
       "        False, False, False, False, False, False, False, False, False,\n",
       "        False, False, False, False, False, False, False, False, False,\n",
       "        False,  True, False, False, False, False, False, False, False,\n",
       "        False, False, False],\n",
       "       [False, False, False, False, False, False, False, False, False,\n",
       "        False, False, False, False, False, False, False, False, False,\n",
       "        False, False, False, False, False, False, False, False, False,\n",
       "        False,  True, False, False, False, False, False, False, False,\n",
       "        False, False, False],\n",
       "       [False, False, False, False, False, False, False, False, False,\n",
       "        False, False, False, False, False, False, False, False, False,\n",
       "        False, False, False, False, False, False, False, False, False,\n",
       "         True, False, False, False, False, False, False, False, False,\n",
       "        False, False, False],\n",
       "       [False,  True, False, False, False, False, False, False, False,\n",
       "        False, False, False, False, False, False, False, False, False,\n",
       "        False, False, False, False, False, False, False, False, False,\n",
       "        False, False, False, False, False, False, False, False, False,\n",
       "        False, False, False],\n",
       "       [False, False, False, False, False, False, False, False, False,\n",
       "        False, False, False, False, False, False, False, False, False,\n",
       "        False, False, False, False, False, False, False, False, False,\n",
       "        False, False, False, False, False, False, False, False,  True,\n",
       "        False, False, False],\n",
       "       [False, False, False, False, False, False, False, False, False,\n",
       "        False, False, False, False, False,  True, False, False, False,\n",
       "        False, False, False, False, False, False, False, False, False,\n",
       "        False, False, False, False, False, False, False, False, False,\n",
       "        False, False, False],\n",
       "       [False, False, False, False, False, False, False, False, False,\n",
       "        False, False, False, False, False, False, False, False, False,\n",
       "        False, False, False, False, False, False, False, False, False,\n",
       "        False, False, False, False,  True, False, False, False, False,\n",
       "        False, False, False],\n",
       "       [False,  True, False, False, False, False, False, False, False,\n",
       "        False, False, False, False, False, False, False, False, False,\n",
       "        False, False, False, False, False, False, False, False, False,\n",
       "        False, False, False, False, False, False, False, False, False,\n",
       "        False, False, False],\n",
       "       [False, False, False, False, False, False, False, False, False,\n",
       "        False, False, False, False, False, False, False, False, False,\n",
       "        False, False,  True, False, False, False, False, False, False,\n",
       "        False, False, False, False, False, False, False, False, False,\n",
       "        False, False, False],\n",
       "       [False, False, False, False, False, False, False, False, False,\n",
       "        False, False, False, False, False, False, False, False, False,\n",
       "        False, False, False, False,  True, False, False, False, False,\n",
       "        False, False, False, False, False, False, False, False, False,\n",
       "        False, False, False],\n",
       "       [False, False, False, False, False, False, False, False, False,\n",
       "        False, False, False, False, False, False, False, False, False,\n",
       "        False, False, False, False, False, False, False, False, False,\n",
       "        False, False, False, False,  True, False, False, False, False,\n",
       "        False, False, False],\n",
       "       [False, False, False, False, False, False, False, False, False,\n",
       "        False, False, False, False, False, False, False, False, False,\n",
       "        False, False, False, False, False, False, False, False, False,\n",
       "        False, False, False, False, False,  True, False, False, False,\n",
       "        False, False, False],\n",
       "       [False, False, False, False, False, False, False, False, False,\n",
       "        False, False, False, False, False, False, False, False, False,\n",
       "         True, False, False, False, False, False, False, False, False,\n",
       "        False, False, False, False, False, False, False, False, False,\n",
       "        False, False, False],\n",
       "       [False, False, False, False, False, False, False, False, False,\n",
       "        False, False, False, False, False, False, False, False, False,\n",
       "        False, False, False, False, False, False, False, False, False,\n",
       "        False, False, False,  True, False, False, False, False, False,\n",
       "        False, False, False],\n",
       "       [False, False, False, False, False, False, False, False, False,\n",
       "        False, False, False, False, False, False, False, False, False,\n",
       "         True, False, False, False, False, False, False, False, False,\n",
       "        False, False, False, False, False, False, False, False, False,\n",
       "        False, False, False],\n",
       "       [False, False, False, False, False, False, False, False, False,\n",
       "        False, False, False, False, False, False, False, False, False,\n",
       "        False, False, False, False, False, False, False, False, False,\n",
       "         True, False, False, False, False, False, False, False, False,\n",
       "        False, False, False]])"
      ]
     },
     "execution_count": 22,
     "metadata": {},
     "output_type": "execute_result"
    }
   ],
   "source": [
    "X[1]"
   ]
  },
  {
   "cell_type": "code",
   "execution_count": 23,
   "metadata": {
    "pycharm": {
     "is_executing": false
    }
   },
   "outputs": [
    {
     "data": {
      "text/plain": [
       "array([False,  True, False, False, False, False, False, False, False,\n",
       "       False, False, False, False, False, False, False, False, False,\n",
       "       False, False, False, False, False, False, False, False, False,\n",
       "       False, False, False, False, False, False, False, False, False,\n",
       "       False, False, False])"
      ]
     },
     "execution_count": 23,
     "metadata": {},
     "output_type": "execute_result"
    }
   ],
   "source": [
    "y[1]"
   ]
  },
  {
   "cell_type": "code",
   "execution_count": 24,
   "metadata": {
    "pycharm": {
     "is_executing": false
    }
   },
   "outputs": [
    {
     "name": "stdout",
     "output_type": "stream",
     "text": [
      "Sanity check y. Dimension: (41681, 39) # Sentences: 41681 Characters in corpus: 39\n",
      "Sanity check X. Dimension: (41681, 20, 39) Sentence length: 20\n"
     ]
    }
   ],
   "source": [
    "# Double check our vectorized data before we sink hours into fitting a model\n",
    "print(\"Sanity check y. Dimension: {0} # Sentences: {1} Characters in corpus: {2}\".format(y.shape, num_sentences, len(chars)))\n",
    "print(\"Sanity check X. Dimension: {0} Sentence length: {1}\".format(X.shape, sentence_length))"
   ]
  },
  {
   "cell_type": "code",
   "execution_count": 25,
   "metadata": {
    "pycharm": {
     "is_executing": false
    }
   },
   "outputs": [
    {
     "name": "stdout",
     "output_type": "stream",
     "text": [
      "Let's build model 1\n",
      "Model: \"sequential\"\n",
      "_________________________________________________________________\n",
      " Layer (type)                Output Shape              Param #   \n",
      "=================================================================\n",
      " lstm (LSTM)                 (None, 128)               86016     \n",
      "                                                                 \n",
      " dense (Dense)               (None, 39)                5031      \n",
      "                                                                 \n",
      " activation (Activation)     (None, 39)                0         \n",
      "                                                                 \n",
      "=================================================================\n",
      "Total params: 91,047\n",
      "Trainable params: 91,047\n",
      "Non-trainable params: 0\n",
      "_________________________________________________________________\n"
     ]
    }
   ],
   "source": [
    "# Define our model\n",
    "print(\"Let's build model 1\")\n",
    "model = Sequential()\n",
    "model.add(LSTM(128, input_shape=(sentence_length, num_chars)))\n",
    "model.add(Dense(num_chars))\n",
    "model.add(Activation('softmax'))\n",
    "model.compile(loss='categorical_crossentropy', optimizer='adam')\n",
    "model.summary() "
   ]
  },
  {
   "cell_type": "code",
   "execution_count": 26,
   "metadata": {
    "pycharm": {
     "is_executing": true
    }
   },
   "outputs": [
    {
     "name": "stdout",
     "output_type": "stream",
     "text": [
      "Epoch 1/20\n",
      "325/326 [============================>.] - ETA: 0s - loss: 2.7689\n",
      "Epoch 1: loss improved from inf to 2.76807, saving model to weights-01.hdf5\n",
      "326/326 [==============================] - 14s 36ms/step - loss: 2.7681\n",
      "Epoch 2/20\n",
      "325/326 [============================>.] - ETA: 0s - loss: 2.2404\n",
      "Epoch 2: loss improved from 2.76807 to 2.23991, saving model to weights-02.hdf5\n",
      "326/326 [==============================] - 12s 36ms/step - loss: 2.2399\n",
      "Epoch 3/20\n",
      "325/326 [============================>.] - ETA: 0s - loss: 2.0388\n",
      "Epoch 3: loss improved from 2.23991 to 2.03818, saving model to weights-03.hdf5\n",
      "326/326 [==============================] - 12s 35ms/step - loss: 2.0382\n",
      "Epoch 4/20\n",
      "326/326 [==============================] - ETA: 0s - loss: 1.9332\n",
      "Epoch 4: loss improved from 2.03818 to 1.93319, saving model to weights-04.hdf5\n",
      "326/326 [==============================] - 12s 36ms/step - loss: 1.9332\n",
      "Epoch 5/20\n",
      "325/326 [============================>.] - ETA: 0s - loss: 1.8562\n",
      "Epoch 5: loss improved from 1.93319 to 1.85632, saving model to weights-05.hdf5\n",
      "326/326 [==============================] - 12s 38ms/step - loss: 1.8563\n",
      "Epoch 6/20\n",
      "325/326 [============================>.] - ETA: 0s - loss: 1.7904\n",
      "Epoch 6: loss improved from 1.85632 to 1.79006, saving model to weights-06.hdf5\n",
      "326/326 [==============================] - 13s 38ms/step - loss: 1.7901\n",
      "Epoch 7/20\n",
      "326/326 [==============================] - ETA: 0s - loss: 1.7288\n",
      "Epoch 7: loss improved from 1.79006 to 1.72879, saving model to weights-07.hdf5\n",
      "326/326 [==============================] - 12s 37ms/step - loss: 1.7288\n",
      "Epoch 8/20\n",
      "325/326 [============================>.] - ETA: 0s - loss: 1.6755\n",
      "Epoch 8: loss improved from 1.72879 to 1.67468, saving model to weights-08.hdf5\n",
      "326/326 [==============================] - 12s 37ms/step - loss: 1.6747\n",
      "Epoch 9/20\n",
      "326/326 [==============================] - ETA: 0s - loss: 1.6222\n",
      "Epoch 9: loss improved from 1.67468 to 1.62222, saving model to weights-09.hdf5\n",
      "326/326 [==============================] - 12s 37ms/step - loss: 1.6222\n",
      "Epoch 10/20\n",
      "326/326 [==============================] - ETA: 0s - loss: 1.5724\n",
      "Epoch 10: loss improved from 1.62222 to 1.57241, saving model to weights-10.hdf5\n",
      "326/326 [==============================] - 12s 38ms/step - loss: 1.5724\n",
      "Epoch 11/20\n",
      "326/326 [==============================] - ETA: 0s - loss: 1.5239\n",
      "Epoch 11: loss improved from 1.57241 to 1.52394, saving model to weights-11.hdf5\n",
      "326/326 [==============================] - 12s 37ms/step - loss: 1.5239\n",
      "Epoch 12/20\n",
      "325/326 [============================>.] - ETA: 0s - loss: 1.4735\n",
      "Epoch 12: loss improved from 1.52394 to 1.47313, saving model to weights-12.hdf5\n",
      "326/326 [==============================] - 12s 38ms/step - loss: 1.4731\n",
      "Epoch 13/20\n",
      "325/326 [============================>.] - ETA: 0s - loss: 1.4246\n",
      "Epoch 13: loss improved from 1.47313 to 1.42503, saving model to weights-13.hdf5\n",
      "326/326 [==============================] - 13s 38ms/step - loss: 1.4250\n",
      "Epoch 14/20\n",
      "326/326 [==============================] - ETA: 0s - loss: 1.3759\n",
      "Epoch 14: loss improved from 1.42503 to 1.37586, saving model to weights-14.hdf5\n",
      "326/326 [==============================] - 12s 37ms/step - loss: 1.3759\n",
      "Epoch 15/20\n",
      "326/326 [==============================] - ETA: 0s - loss: 1.3264\n",
      "Epoch 15: loss improved from 1.37586 to 1.32643, saving model to weights-15.hdf5\n",
      "326/326 [==============================] - 12s 38ms/step - loss: 1.3264\n",
      "Epoch 16/20\n",
      "326/326 [==============================] - ETA: 0s - loss: 1.2778\n",
      "Epoch 16: loss improved from 1.32643 to 1.27776, saving model to weights-16.hdf5\n",
      "326/326 [==============================] - 13s 39ms/step - loss: 1.2778\n",
      "Epoch 17/20\n",
      "325/326 [============================>.] - ETA: 0s - loss: 1.2281\n",
      "Epoch 17: loss improved from 1.27776 to 1.22839, saving model to weights-17.hdf5\n",
      "326/326 [==============================] - 12s 38ms/step - loss: 1.2284\n",
      "Epoch 18/20\n",
      "325/326 [============================>.] - ETA: 0s - loss: 1.1761\n",
      "Epoch 18: loss improved from 1.22839 to 1.17564, saving model to weights-18.hdf5\n",
      "326/326 [==============================] - 13s 38ms/step - loss: 1.1756\n",
      "Epoch 19/20\n",
      "326/326 [==============================] - ETA: 0s - loss: 1.1255\n",
      "Epoch 19: loss improved from 1.17564 to 1.12546, saving model to weights-19.hdf5\n",
      "326/326 [==============================] - 12s 38ms/step - loss: 1.1255\n",
      "Epoch 20/20\n",
      "326/326 [==============================] - ETA: 0s - loss: 1.0733\n",
      "Epoch 20: loss improved from 1.12546 to 1.07327, saving model to weights-20.hdf5\n",
      "326/326 [==============================] - 13s 38ms/step - loss: 1.0733\n"
     ]
    },
    {
     "data": {
      "text/plain": [
       "<keras.callbacks.History at 0x19ef8fddf90>"
      ]
     },
     "execution_count": 26,
     "metadata": {},
     "output_type": "execute_result"
    }
   ],
   "source": [
    "# Dump our model architecture to a file so we can load it elsewhere\n",
    "# Find out how to load a model? ,\n",
    "# return_sequences=True\n",
    "# architecture = model.to_json()\n",
    "# with open('model.json', 'a') as model_file:\n",
    "#     model_file.write(architecture)\n",
    "\n",
    "# Set up checkpoints, and save trained model\n",
    "file_path=\"weights-{epoch:02d}.hdf5\"\n",
    "checkpoint = ModelCheckpoint(file_path, monitor=\"loss\", verbose=1, save_best_only=True, mode=\"min\")\n",
    "callbacks = [checkpoint]\n",
    "\n",
    "# Find out how to load the trained checkpoint?\n",
    "# Lets go, action time!\n",
    "model.fit(X, y, epochs=20, batch_size=128, callbacks=callbacks)"
   ]
  },
  {
   "cell_type": "code",
   "execution_count": null,
   "metadata": {
    "pycharm": {
     "is_executing": true
    }
   },
   "outputs": [],
   "source": [
    "#model.add(GRU(256),return_sequences=True)\n",
    "#model.add(GRU(256))"
   ]
  },
  {
   "cell_type": "code",
   "execution_count": 27,
   "metadata": {},
   "outputs": [],
   "source": [
    "model.save(\"model.h5\") "
   ]
  },
  {
   "cell_type": "code",
   "execution_count": null,
   "metadata": {},
   "outputs": [],
   "source": []
  }
 ],
 "metadata": {
  "kernelspec": {
   "display_name": "Python 3 (ipykernel)",
   "language": "python",
   "name": "python3"
  },
  "language_info": {
   "codemirror_mode": {
    "name": "ipython",
    "version": 3
   },
   "file_extension": ".py",
   "mimetype": "text/x-python",
   "name": "python",
   "nbconvert_exporter": "python",
   "pygments_lexer": "ipython3",
   "version": "3.10.6"
  },
  "pycharm": {
   "stem_cell": {
    "cell_type": "raw",
    "metadata": {
     "collapsed": false
    },
    "source": []
   }
  }
 },
 "nbformat": 4,
 "nbformat_minor": 2
}
