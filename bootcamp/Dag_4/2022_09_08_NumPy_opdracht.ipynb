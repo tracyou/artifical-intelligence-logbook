{
 "cells": [
  {
   "cell_type": "markdown",
   "metadata": {
    "id": "Nn4Qzgx-2m9Y"
   },
   "source": [
    "# Python versus Numpy\n",
    "\n",
    "### Stijn Oomes\n",
    "\n",
    "donderdag 8 september 2022\n",
    "\n",
    "---\n",
    " \n",
    "**Python Data Science Handbook**\n",
    "\n",
    "Chapter 2. Introduction to NumPy\n",
    "\n",
    "https://learning.oreilly.com/library/view/python-data-science/9781491912126/ch02.html#introduction-to-numpy"
   ]
  },
  {
   "cell_type": "markdown",
   "metadata": {
    "id": "QFTVWQPu1fAf"
   },
   "source": [
    "## Importeer libraries"
   ]
  },
  {
   "cell_type": "markdown",
   "metadata": {
    "id": "AuuPF_Q43f90"
   },
   "source": [
    "Controleer welke version van Python in dit notebook wordt gerund."
   ]
  },
  {
   "cell_type": "code",
   "execution_count": 30,
   "metadata": {
    "colab": {
     "base_uri": "https://localhost:8080/"
    },
    "id": "34e1blkU1jVf",
    "outputId": "f75ca1a0-1c29-4c45-8f67-2a2c8f3c7c5f"
   },
   "outputs": [
    {
     "name": "stdout",
     "output_type": "stream",
     "text": [
      "3.10.6\n"
     ]
    }
   ],
   "source": [
    "from platform import python_version\n",
    "\n",
    "print(python_version())"
   ]
  },
  {
   "cell_type": "markdown",
   "metadata": {
    "id": "pIhpnHi_4Laf"
   },
   "source": [
    "Importeer Numpy en OpenCV en controleer welke versie worden gerund."
   ]
  },
  {
   "cell_type": "code",
   "execution_count": 31,
   "metadata": {
    "colab": {
     "base_uri": "https://localhost:8080/",
     "height": 35
    },
    "id": "6E1LpQe11u24",
    "outputId": "4a87d865-1292-4bd0-d5c9-6f3e0a8adcf9"
   },
   "outputs": [
    {
     "name": "stdout",
     "output_type": "stream",
     "text": [
      "1.23.2\n"
     ]
    }
   ],
   "source": [
    "import numpy as np\n",
    "print(np.__version__)"
   ]
  },
  {
   "cell_type": "code",
   "execution_count": 32,
   "metadata": {
    "colab": {
     "base_uri": "https://localhost:8080/",
     "height": 35
    },
    "id": "cDXGHao61zWn",
    "outputId": "526fc409-7a5a-4a8f-a63c-0010ab628068",
    "scrolled": true
   },
   "outputs": [
    {
     "name": "stdout",
     "output_type": "stream",
     "text": [
      "4.6.0\n"
     ]
    }
   ],
   "source": [
    "import cv2 as cv \n",
    "print(cv.__version__)"
   ]
  },
  {
   "cell_type": "markdown",
   "metadata": {
    "id": "vxmGsI5J1qqn"
   },
   "source": [
    "## Definieer een parameter"
   ]
  },
  {
   "cell_type": "markdown",
   "metadata": {
    "id": "W10S21jl8NBl"
   },
   "source": [
    "Definieer een parameter n en geef het voorlopig even een relatief kleine waarde, bijvoorbeeld 4.\n",
    "\n",
    "We beginnen de test met een datastructuur met weinig elementen. Daarna mag je die waarde zo groot maken als je computer aan kan."
   ]
  },
  {
   "cell_type": "code",
   "execution_count": 33,
   "metadata": {
    "id": "lJa6RHyKIc18"
   },
   "outputs": [],
   "source": [
    "n = 656"
   ]
  },
  {
   "cell_type": "markdown",
   "metadata": {
    "id": "RlRD_h2K8ep6"
   },
   "source": [
    "## Meet hoeveel geheugen wordt gebruikt"
   ]
  },
  {
   "cell_type": "markdown",
   "metadata": {
    "id": "Ws-WGiKV8qaz"
   },
   "source": [
    "Hoe kunnen we zien hoeveel geheugen een datastructuur inneemt?\n",
    "\n",
    "Definieer een lijst in Python met `n` elementen met een random waarde.\n",
    "\n",
    "Hint: `import random`"
   ]
  },
  {
   "cell_type": "code",
   "execution_count": 34,
   "metadata": {
    "colab": {
     "base_uri": "https://localhost:8080/"
    },
    "id": "fq6OZosi9xuu",
    "outputId": "7c79bba1-34b7-4a73-8369-840ee22cb7cd"
   },
   "outputs": [
    {
     "name": "stdout",
     "output_type": "stream",
     "text": [
      "[99, 42, 78, 83, 8, 78, 93, 62, 33, 92, 16, 22, 65, 37, 36, 52, 99, 88, 19, 98, 15, 31, 45, 54, 98, 67, 72, 54, 63, 69, 71, 84, 58, 63, 2, 27, 14, 4, 63, 8, 36, 76, 17, 45, 89, 51, 74, 65, 42, 41, 7, 64, 1, 85, 95, 90, 37, 49, 40, 62, 87, 45, 83, 48, 90, 65, 69, 63, 43, 74, 15, 4, 70, 35, 44, 30, 70, 15, 94, 24, 23, 73, 57, 54, 57, 86, 50, 94, 57, 6, 67, 27, 61, 18, 89, 9, 4, 37, 49, 69, 30, 87, 10, 56, 11, 25, 70, 95, 10, 15, 89, 2, 14, 66, 42, 83, 17, 25, 6, 60, 95, 2, 95, 37, 97, 42, 50, 60, 34, 52, 87, 24, 98, 37, 67, 14, 2, 19, 94, 62, 27, 80, 37, 30, 45, 78, 5, 42, 93, 74, 35, 70, 1, 98, 26, 68, 74, 88, 96, 28, 86, 72, 49, 68, 22, 50, 27, 16, 57, 96, 82, 12, 68, 50, 44, 33, 2, 97, 6, 86, 13, 60, 89, 16, 32, 3, 38, 33, 50, 92, 19, 14, 52, 82, 72, 42, 8, 63, 1, 54, 22, 96, 60, 48, 79, 7, 5, 72, 76, 66, 74, 50, 63, 26, 4, 98, 66, 24, 50, 35, 66, 75, 79, 36, 85, 37, 11, 23, 25, 85, 37, 76, 90, 68, 74, 68, 80, 58, 94, 72, 10, 24, 67, 67, 79, 47, 3, 56, 92, 83, 67, 50, 52, 12, 18, 40, 29, 44, 98, 25, 94, 6, 62, 18, 39, 38, 8, 1, 32, 88, 95, 86, 87, 99, 11, 63, 94, 57, 38, 62, 75, 51, 33, 63, 18, 8, 14, 1, 57, 23, 86, 41, 76, 79, 62, 39, 63, 28, 89, 4, 2, 94, 4, 9, 41, 87, 60, 52, 52, 90, 93, 63, 63, 6, 22, 41, 8, 94, 21, 16, 43, 59, 27, 44, 10, 37, 20, 65, 93, 74, 49, 97, 44, 69, 44, 44, 66, 72, 41, 16, 4, 42, 15, 93, 30, 89, 61, 33, 95, 73, 9, 17, 65, 72, 25, 81, 86, 18, 26, 3, 36, 55, 71, 93, 60, 43, 54, 5, 63, 13, 62, 6, 75, 43, 86, 98, 45, 51, 74, 84, 25, 73, 29, 50, 44, 42, 68, 29, 99, 22, 0, 23, 40, 3, 83, 6, 10, 62, 82, 27, 82, 48, 59, 22, 29, 93, 55, 38, 45, 81, 28, 63, 33, 24, 76, 85, 60, 68, 26, 79, 98, 84, 67, 55, 100, 93, 6, 13, 95, 42, 15, 60, 93, 80, 26, 6, 73, 33, 18, 9, 2, 74, 17, 81, 74, 66, 7, 72, 23, 69, 64, 43, 83, 38, 81, 70, 56, 74, 75, 68, 53, 36, 34, 26, 7, 26, 93, 72, 73, 23, 14, 12, 11, 70, 73, 72, 43, 46, 14, 36, 49, 62, 61, 18, 35, 93, 48, 23, 70, 72, 27, 68, 14, 76, 46, 57, 81, 87, 67, 27, 45, 4, 63, 11, 99, 84, 25, 38, 65, 80, 24, 59, 12, 65, 38, 7, 10, 29, 24, 14, 83, 19, 57, 2, 68, 82, 44, 32, 42, 8, 7, 54, 93, 93, 64, 46, 35, 32, 74, 98, 19, 75, 31, 78, 27, 44, 11, 0, 100, 79, 92, 30, 23, 74, 49, 98, 87, 0, 100, 88, 81, 41, 71, 67, 69, 76, 30, 65, 18, 63, 98, 31, 68, 39, 38, 51, 84, 12, 19, 67, 19, 9, 10, 52, 45, 83, 59, 15, 44, 36, 7, 79, 83, 84, 39, 72, 59, 50, 87, 78, 36, 81, 86, 45, 63, 35, 29, 4, 44, 81, 18, 55, 36, 3, 78, 62, 27, 64, 50, 43, 67, 23, 58, 43, 26, 46, 63, 34, 41, 28, 11, 85, 100, 54, 97, 58, 68, 6, 79, 57, 18, 42, 49, 93, 70, 80, 29, 66, 34, 20, 95, 40, 18, 52, 36, 42]\n"
     ]
    }
   ],
   "source": [
    "import random\n",
    "\n",
    "# voor elk element wordt een getal tussen 0 en 100 aangebonden\n",
    "myList = [random.randint(0,100) for i in range(n)]\n",
    "print(myList)"
   ]
  },
  {
   "cell_type": "markdown",
   "metadata": {
    "id": "h_Se7xe_Aqp0"
   },
   "source": [
    "\n",
    "Kijk daarna hoeveel bytes deze lijst in het geheugen inneemt.\n",
    "\n",
    "Hint: `import sys`"
   ]
  },
  {
   "cell_type": "code",
   "execution_count": 35,
   "metadata": {
    "colab": {
     "base_uri": "https://localhost:8080/"
    },
    "id": "AD5-VV1s-7ER",
    "outputId": "58f9dc14-ee3f-42f0-c1b6-c2cefaac4e56"
   },
   "outputs": [
    {
     "data": {
      "text/plain": [
       "5432"
      ]
     },
     "execution_count": 35,
     "metadata": {},
     "output_type": "execute_result"
    }
   ],
   "source": [
    "import sys\n",
    "sys.getsizeof(myList)"
   ]
  },
  {
   "cell_type": "markdown",
   "metadata": {
    "id": "5wObavLdAUSa"
   },
   "source": [
    "Kijk ook hoeveel één element van deze lijst in het geheugen inneemt."
   ]
  },
  {
   "cell_type": "code",
   "execution_count": 36,
   "metadata": {
    "colab": {
     "base_uri": "https://localhost:8080/"
    },
    "id": "wjod3XRw_Xqn",
    "outputId": "ddaa10ec-8a20-4212-9743-a4eedc0e7961"
   },
   "outputs": [
    {
     "data": {
      "text/plain": [
       "152096"
      ]
     },
     "execution_count": 36,
     "metadata": {},
     "output_type": "execute_result"
    }
   ],
   "source": [
    "sys.getsizeof(myList[0])\n",
    "sys.getsizeof(myList)*sys.getsizeof(myList[0])"
   ]
  },
  {
   "cell_type": "markdown",
   "metadata": {
    "id": "9CaosQyD2GPK"
   },
   "source": [
    "Experimenteer eens met de grootte van andere datatypes. \n",
    "\n",
    "Hoeveel geheugen neemt een Boolean in? Verbaast je dat?"
   ]
  },
  {
   "cell_type": "code",
   "execution_count": 37,
   "metadata": {
    "colab": {
     "base_uri": "https://localhost:8080/"
    },
    "id": "4Uy3GWaphNYv",
    "outputId": "3ec9ea77-40da-45db-fb57-d617824533ae"
   },
   "outputs": [
    {
     "data": {
      "text/plain": [
       "28"
      ]
     },
     "execution_count": 37,
     "metadata": {},
     "output_type": "execute_result"
    }
   ],
   "source": [
    "p = True\n",
    "\n",
    "sys.getsizeof(p)"
   ]
  },
  {
   "cell_type": "code",
   "execution_count": 38,
   "metadata": {},
   "outputs": [
    {
     "data": {
      "text/plain": [
       "24"
      ]
     },
     "execution_count": 38,
     "metadata": {},
     "output_type": "execute_result"
    }
   ],
   "source": [
    "p = False\n",
    "\n",
    "sys.getsizeof(p)"
   ]
  },
  {
   "cell_type": "markdown",
   "metadata": {
    "id": "forC9GEBC7CC"
   },
   "source": [
    "## Meet hoe lang een berekening duurt"
   ]
  },
  {
   "cell_type": "markdown",
   "metadata": {
    "id": "ynDy0tphDAv4"
   },
   "source": [
    "Hoe lang duurt het om bijvoorbeeld alle getallen in onze lijst op te tellen?"
   ]
  },
  {
   "cell_type": "code",
   "execution_count": 44,
   "metadata": {
    "colab": {
     "base_uri": "https://localhost:8080/"
    },
    "id": "RvSDJUxqC6uC",
    "outputId": "a51b9295-ff00-4360-ad64-6caac53d4834"
   },
   "outputs": [
    {
     "data": {
      "text/plain": [
       "33141"
      ]
     },
     "execution_count": 44,
     "metadata": {},
     "output_type": "execute_result"
    }
   ],
   "source": [
    "sum(myList)"
   ]
  },
  {
   "cell_type": "markdown",
   "metadata": {
    "id": "JWE3vFZpDNpT"
   },
   "source": [
    "Meet de starttijd, voer de sommatie uit, meet de eindtijd. Bepaal het verschil tusen eindtijd en begintijd. \n",
    "\n",
    "Hint: `import time`"
   ]
  },
  {
   "cell_type": "code",
   "execution_count": 45,
   "metadata": {
    "colab": {
     "base_uri": "https://localhost:8080/"
    },
    "id": "jedyLrvED20O",
    "outputId": "95bd2d78-2087-4d8f-dff1-6280395ac3c4"
   },
   "outputs": [
    {
     "name": "stdout",
     "output_type": "stream",
     "text": [
      "0.0009953976\n"
     ]
    }
   ],
   "source": [
    "import time\n",
    "\n",
    "start = time.time()\n",
    "sum(myList)\n",
    "end = time.time()\n",
    "tijd = end-start\n",
    "print(f\"{tijd:.10f}\")"
   ]
  },
  {
   "cell_type": "markdown",
   "metadata": {},
   "source": [
    "In welke eenheid wordt de tijd gemeten?\n",
    "    float"
   ]
  },
  {
   "cell_type": "markdown",
   "metadata": {
    "id": "ZakyZzozJpC8"
   },
   "source": [
    "## Python list"
   ]
  },
  {
   "cell_type": "markdown",
   "metadata": {
    "id": "V3hOvXpt2tGW"
   },
   "source": [
    "Maak twee Python lists van lengte ``n``. Vermenigvuldig die twee lists elementsgewijs. Tel vervolgens alle getallen bij elkaar op.\n",
    "\n",
    "Bepaal hoeveel bytes de Python list in neemt.\n",
    "\n",
    "Meet ook hoe lang deze berekeningen duren. Let op je parameter ``n`` is nu nog klein."
   ]
  },
  {
   "cell_type": "code",
   "execution_count": 55,
   "metadata": {
    "colab": {
     "base_uri": "https://localhost:8080/"
    },
    "id": "klxdgEJrKscp",
    "outputId": "65d4e670-2403-4ede-84bd-23d15f0848c0",
    "scrolled": true
   },
   "outputs": [
    {
     "name": "stdout",
     "output_type": "stream",
     "text": [
      "16737\n",
      "0.0009944438934326172\n",
      "5432\n"
     ]
    }
   ],
   "source": [
    "start = time.time()\n",
    "\n",
    "list1 = [random.randint(0,10) for i in range(n)]\n",
    "list2 = [random.randint(0,10) for i in range(n)]\n",
    "\n",
    "result = []\n",
    "for i1, i2 in zip(list1, list2):\n",
    "  result.append(i1*i2)\n",
    "\n",
    "print(sum(result))\n",
    "\n",
    "end = time.time()\n",
    "print(end-start)\n",
    "print(sys.getsizeof(result))"
   ]
  },
  {
   "cell_type": "markdown",
   "metadata": {
    "id": "hy31aEn3Jsw0"
   },
   "source": [
    "## NumPy array"
   ]
  },
  {
   "cell_type": "markdown",
   "metadata": {
    "id": "KFj6xMSn3Ozs"
   },
   "source": [
    "Maak twee NumPy arrays van lengte ``n``. Vermenigvuldig de twee arrays elementsgewijs. Tel vervolgens alle getallen bij elkaar op.\n",
    "\n",
    "Bepaal hoeveel bytes de NumPy array in neemt.\n",
    "\n",
    "Meet hoe lang deze berekeningen duren. Let op je parameter ``n`` is nu nog klein."
   ]
  },
  {
   "cell_type": "code",
   "execution_count": 56,
   "metadata": {
    "colab": {
     "base_uri": "https://localhost:8080/"
    },
    "id": "EGNyDT93KTRj",
    "outputId": "32689d33-2635-4be5-88b1-5180ab0cc843"
   },
   "outputs": [
    {
     "name": "stdout",
     "output_type": "stream",
     "text": [
      "13208\n",
      "0.0009987354278564453\n",
      "5432\n"
     ]
    }
   ],
   "source": [
    "start = time.time()\n",
    "\n",
    "array1 = np.random.randint(10,size=n)\n",
    "array2 = np.random.randint(10,size=n)\n",
    "array = array1*array2\n",
    "print(array.sum())\n",
    "\n",
    "end = time.time()\n",
    "print(end-start)\n",
    "print(sys.getsizeof(result))"
   ]
  },
  {
   "cell_type": "markdown",
   "metadata": {
    "id": "kt25l3SH1oS_"
   },
   "source": [
    "## Vergelijking Python list versus NumPy array"
   ]
  },
  {
   "cell_type": "markdown",
   "metadata": {
    "id": "uvnfhHXX3fmQ"
   },
   "source": [
    "Kijk nu voor verschillende waardes van de parameter ``n`` hoe lang de berekeningen duren.\n",
    "\n",
    "Bereken voor elke ``n`` de tijd voor de Python berekening gedeeld door de NumPy berekening.\n",
    "\n",
    "Kies als verschillende ``n`` waardes bijvoorbeeld 4, 8, 16, 32, 64, 128, 256, 1024."
   ]
  },
  {
   "cell_type": "code",
   "execution_count": 58,
   "metadata": {
    "id": "eS7EexvmR8av"
   },
   "outputs": [
    {
     "data": {
      "image/png": "[encoded data removed]",
      "text/plain": [
       "<Figure size 640x480 with 1 Axes>"
      ]
     },
     "metadata": {},
     "output_type": "display_data"
    }
   ],
   "source": [
    "import matplotlib.pyplot as plt\n",
    "from timeit import default_timer as timer\n",
    "n = 2\n",
    "timings_python_list = {}\n",
    "timings_numpy_array = {}\n",
    "\n",
    "while n <= 1_048_576*4:\n",
    "    python_list = [random.random() for i in range(0, n)]\n",
    "    numpy_array = np.random.randint(255, size=n)\n",
    "\n",
    "    # Time python list sum.\n",
    "    start = timer()\n",
    "    sum(python_list)\n",
    "    end = timer()\n",
    "    timings_python_list[n] = (end - start)\n",
    "    # Time numpy array sum.\n",
    "    start = timer()\n",
    "    numpy_array.sum()\n",
    "    end = timer()\n",
    "    timings_numpy_array[n] = (end - start)\n",
    "\n",
    "    n *= 2\n",
    "\n",
    "plt.plot(timings_python_list.keys(), timings_python_list.values())\n",
    "plt.plot(timings_numpy_array.keys(), timings_numpy_array.values(),'r')\n",
    "plt.show()"
   ]
  },
  {
   "cell_type": "markdown",
   "metadata": {},
   "source": [
    "## Bonus: maak een grafiek"
   ]
  },
  {
   "cell_type": "code",
   "execution_count": null,
   "metadata": {},
   "outputs": [],
   "source": [
    "\n"
   ]
  }
 ],
 "metadata": {
  "accelerator": "GPU",
  "colab": {
   "collapsed_sections": [],
   "name": "2021_02_04_NumPy_uitwerking.ipynb",
   "provenance": []
  },
  "kernelspec": {
   "display_name": "Python 3 (ipykernel)",
   "language": "python",
   "name": "python3"
  },
  "language_info": {
   "codemirror_mode": {
    "name": "ipython",
    "version": 3
   },
   "file_extension": ".py",
   "mimetype": "text/x-python",
   "name": "python",
   "nbconvert_exporter": "python",
   "pygments_lexer": "ipython3",
   "version": "3.10.6"
  }
 },
 "nbformat": 4,
 "nbformat_minor": 1
}
