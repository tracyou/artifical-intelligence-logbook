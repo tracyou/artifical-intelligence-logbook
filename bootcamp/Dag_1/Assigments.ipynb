{
 "cells": [
  {
   "cell_type": "code",
   "execution_count": 5,
   "id": "1b9ff1ed",
   "metadata": {},
   "outputs": [],
   "source": [
    "import tensorflow as tf"
   ]
  },
  {
   "cell_type": "code",
   "execution_count": 6,
   "id": "617458f9",
   "metadata": {},
   "outputs": [
    {
     "data": {
      "text/plain": [
       "'2.9.2'"
      ]
     },
     "execution_count": 6,
     "metadata": {},
     "output_type": "execute_result"
    }
   ],
   "source": [
    "tf.__version__"
   ]
  },
  {
   "cell_type": "markdown",
   "id": "7956b94e",
   "metadata": {},
   "source": [
    "## Hello world"
   ]
  },
  {
   "cell_type": "markdown",
   "id": "978d9aa8",
   "metadata": {},
   "source": [
    "Print \"hello world\" naar scherm"
   ]
  },
  {
   "cell_type": "code",
   "execution_count": 7,
   "id": "02fa632a",
   "metadata": {},
   "outputs": [
    {
     "name": "stdout",
     "output_type": "stream",
     "text": [
      "hello world\n"
     ]
    }
   ],
   "source": [
    "print(\"hello world\")"
   ]
  },
  {
   "cell_type": "markdown",
   "id": "4b90425d",
   "metadata": {},
   "source": [
    "Maak een variabele hw die de tekst \"hello world bevat\" en print deze ook"
   ]
  },
  {
   "cell_type": "code",
   "execution_count": 8,
   "id": "8ce9afd1",
   "metadata": {},
   "outputs": [],
   "source": [
    "hw = \"hello world\""
   ]
  },
  {
   "cell_type": "code",
   "execution_count": 9,
   "id": "8e2e17c3",
   "metadata": {},
   "outputs": [
    {
     "name": "stdout",
     "output_type": "stream",
     "text": [
      "hello world\n"
     ]
    }
   ],
   "source": [
    "print(hw)"
   ]
  },
  {
   "cell_type": "markdown",
   "id": "68cfda9c",
   "metadata": {},
   "source": [
    "Print de derde letter van \"hello world\""
   ]
  },
  {
   "cell_type": "code",
   "execution_count": 10,
   "id": "26701133",
   "metadata": {},
   "outputs": [
    {
     "name": "stdout",
     "output_type": "stream",
     "text": [
      "l\n"
     ]
    }
   ],
   "source": [
    "print(hw[2])"
   ]
  },
  {
   "cell_type": "markdown",
   "id": "81331fa3",
   "metadata": {},
   "source": [
    "Print het eerste woord van \"hello world\""
   ]
  },
  {
   "cell_type": "code",
   "execution_count": 11,
   "id": "370ada66",
   "metadata": {},
   "outputs": [
    {
     "name": "stdout",
     "output_type": "stream",
     "text": [
      "hello\n"
     ]
    }
   ],
   "source": [
    "print(hw.split()[0])"
   ]
  },
  {
   "cell_type": "markdown",
   "id": "f72b2915",
   "metadata": {},
   "source": [
    "Print de laatste letter van \"hello world\""
   ]
  },
  {
   "cell_type": "code",
   "execution_count": 12,
   "id": "223b3428",
   "metadata": {
    "scrolled": true
   },
   "outputs": [
    {
     "name": "stdout",
     "output_type": "stream",
     "text": [
      "d\n"
     ]
    }
   ],
   "source": [
    "print(hw[-1])"
   ]
  },
  {
   "cell_type": "markdown",
   "id": "b48af7bb",
   "metadata": {},
   "source": [
    "Maak een functie die \"hello world\" print"
   ]
  },
  {
   "cell_type": "code",
   "execution_count": 13,
   "id": "734870bf",
   "metadata": {},
   "outputs": [],
   "source": [
    "def function():\n",
    "    '''Prints out hello world'''\n",
    "    print(\"hello world\")"
   ]
  },
  {
   "cell_type": "code",
   "execution_count": 14,
   "id": "582563e5",
   "metadata": {},
   "outputs": [
    {
     "name": "stdout",
     "output_type": "stream",
     "text": [
      "hello world\n"
     ]
    }
   ],
   "source": [
    "function()"
   ]
  },
  {
   "cell_type": "markdown",
   "id": "e4869c2b",
   "metadata": {},
   "source": [
    "Maak een functie die \"hello world\" teruggeeft"
   ]
  },
  {
   "cell_type": "code",
   "execution_count": 15,
   "id": "2b073ead",
   "metadata": {},
   "outputs": [],
   "source": [
    "def another_function(): \n",
    "    '''Returns the string hello world'''\n",
    "    return \"hello world\""
   ]
  },
  {
   "cell_type": "code",
   "execution_count": 16,
   "id": "203c39c0",
   "metadata": {},
   "outputs": [
    {
     "data": {
      "text/plain": [
       "'hello world'"
      ]
     },
     "execution_count": 16,
     "metadata": {},
     "output_type": "execute_result"
    }
   ],
   "source": [
    "another_function()"
   ]
  },
  {
   "cell_type": "markdown",
   "id": "c2407ecb",
   "metadata": {},
   "source": [
    "Maak een functie die een meegegeven tekst print"
   ]
  },
  {
   "cell_type": "code",
   "execution_count": 18,
   "id": "4aed6ab7",
   "metadata": {},
   "outputs": [],
   "source": [
    "def print_text(text):\n",
    "    '''Prints the text that's given with the function'''\n",
    "    print(text)"
   ]
  },
  {
   "cell_type": "code",
   "execution_count": 19,
   "id": "e39a6ed2",
   "metadata": {},
   "outputs": [
    {
     "name": "stdout",
     "output_type": "stream",
     "text": [
      "test test 123\n"
     ]
    }
   ],
   "source": [
    "print_text(\"test test 123\")"
   ]
  },
  {
   "cell_type": "markdown",
   "id": "e8b5f949",
   "metadata": {},
   "source": [
    "Maak een functie die een meegegeven variabele print"
   ]
  },
  {
   "cell_type": "code",
   "execution_count": 20,
   "id": "8d468d18",
   "metadata": {},
   "outputs": [],
   "source": [
    "def print_var(a):\n",
    "    '''Prints the variable that's given with the function'''\n",
    "    print(a)"
   ]
  },
  {
   "cell_type": "code",
   "execution_count": 21,
   "id": "cb7a53d0",
   "metadata": {},
   "outputs": [
    {
     "name": "stdout",
     "output_type": "stream",
     "text": [
      "23\n"
     ]
    }
   ],
   "source": [
    "print_var(23)"
   ]
  },
  {
   "cell_type": "markdown",
   "id": "8f86cfe8",
   "metadata": {},
   "source": [
    "## Jupyter"
   ]
  },
  {
   "cell_type": "markdown",
   "id": "30e7e554",
   "metadata": {},
   "source": [
    "Maak een header met markdown"
   ]
  },
  {
   "cell_type": "markdown",
   "id": "e1d5c73c",
   "metadata": {},
   "source": [
    "# Header"
   ]
  },
  {
   "cell_type": "markdown",
   "id": "1d9c4bd1",
   "metadata": {},
   "source": [
    "Zet commentaar (docstrings) bij je functies"
   ]
  },
  {
   "cell_type": "code",
   "execution_count": 22,
   "id": "28341762",
   "metadata": {},
   "outputs": [
    {
     "name": "stdout",
     "output_type": "stream",
     "text": [
      "Prints out hello world\n",
      "Returns the string hello world\n",
      "Prints the text that's given with the function\n",
      "Prints the variable that's given with the function\n"
     ]
    }
   ],
   "source": [
    "print(function.__doc__)\n",
    "print(another_function.__doc__)\n",
    "print(print_text.__doc__)\n",
    "print(print_var.__doc__)"
   ]
  },
  {
   "cell_type": "markdown",
   "id": "35a1d8b5",
   "metadata": {},
   "source": [
    "## Sommetjes en lijstjes"
   ]
  },
  {
   "cell_type": "markdown",
   "id": "a3c688ff",
   "metadata": {},
   "source": [
    "Reken 1+1 uit"
   ]
  },
  {
   "cell_type": "code",
   "execution_count": 23,
   "id": "6a748477",
   "metadata": {},
   "outputs": [
    {
     "data": {
      "text/plain": [
       "2"
      ]
     },
     "execution_count": 23,
     "metadata": {},
     "output_type": "execute_result"
    }
   ],
   "source": [
    "1+1"
   ]
  },
  {
   "cell_type": "markdown",
   "id": "0066913f",
   "metadata": {},
   "source": [
    "Maak lijstje a=[1,2,3,4,5,6,7,8,9,10], gebruik range()"
   ]
  },
  {
   "cell_type": "code",
   "execution_count": 24,
   "id": "9f884e19",
   "metadata": {},
   "outputs": [],
   "source": [
    "a = range(1, 11)"
   ]
  },
  {
   "cell_type": "code",
   "execution_count": 25,
   "id": "8f7e6dea",
   "metadata": {},
   "outputs": [
    {
     "name": "stdout",
     "output_type": "stream",
     "text": [
      "1\n",
      "2\n",
      "3\n",
      "4\n",
      "5\n",
      "6\n",
      "7\n",
      "8\n",
      "9\n",
      "10\n"
     ]
    }
   ],
   "source": [
    "for x in a:\n",
    "    print(x)"
   ]
  },
  {
   "cell_type": "markdown",
   "id": "f423b03e",
   "metadata": {},
   "source": [
    "Maak het lijstje b=[11,12,13,14,15] en plak deze erachteraan"
   ]
  },
  {
   "cell_type": "code",
   "execution_count": 26,
   "id": "1e7a6f94",
   "metadata": {},
   "outputs": [],
   "source": [
    "b = range(11, 16)"
   ]
  },
  {
   "cell_type": "code",
   "execution_count": 27,
   "id": "df004b9e",
   "metadata": {},
   "outputs": [
    {
     "name": "stdout",
     "output_type": "stream",
     "text": [
      "11\n",
      "12\n",
      "13\n",
      "14\n",
      "15\n"
     ]
    }
   ],
   "source": [
    "for x in b:\n",
    "    print(x)"
   ]
  },
  {
   "cell_type": "code",
   "execution_count": 28,
   "id": "a06a883d",
   "metadata": {},
   "outputs": [],
   "source": [
    "c = *a, *b"
   ]
  },
  {
   "cell_type": "code",
   "execution_count": 29,
   "id": "a69a00bc",
   "metadata": {},
   "outputs": [
    {
     "name": "stdout",
     "output_type": "stream",
     "text": [
      "1\n",
      "2\n",
      "3\n",
      "4\n",
      "5\n",
      "6\n",
      "7\n",
      "8\n",
      "9\n",
      "10\n",
      "11\n",
      "12\n",
      "13\n",
      "14\n",
      "15\n"
     ]
    }
   ],
   "source": [
    "for x in c:\n",
    "    print(x)"
   ]
  },
  {
   "cell_type": "markdown",
   "id": "3b4ff66e",
   "metadata": {},
   "source": [
    "Tel 5 bij elk element op, gebruik list comprehension"
   ]
  },
  {
   "cell_type": "code",
   "execution_count": 30,
   "id": "9a756756",
   "metadata": {},
   "outputs": [],
   "source": [
    "d = [x + 5 for x in c]"
   ]
  },
  {
   "cell_type": "code",
   "execution_count": 31,
   "id": "2c368c89",
   "metadata": {},
   "outputs": [
    {
     "name": "stdout",
     "output_type": "stream",
     "text": [
      "[6, 7, 8, 9, 10, 11, 12, 13, 14, 15, 16, 17, 18, 19, 20]\n"
     ]
    }
   ],
   "source": [
    "print(d)"
   ]
  },
  {
   "cell_type": "markdown",
   "id": "7dabc2b2",
   "metadata": {},
   "source": [
    "Neem vervolgens de som"
   ]
  },
  {
   "cell_type": "code",
   "execution_count": 32,
   "id": "c340f3a9",
   "metadata": {},
   "outputs": [
    {
     "name": "stdout",
     "output_type": "stream",
     "text": [
      "195\n"
     ]
    }
   ],
   "source": [
    "som = sum(d)\n",
    "print(som)"
   ]
  },
  {
   "cell_type": "markdown",
   "id": "cbb77d88",
   "metadata": {},
   "source": [
    "Reken ∑𝑖 uit voor i=100"
   ]
  },
  {
   "cell_type": "code",
   "execution_count": 33,
   "id": "11f7a2b8",
   "metadata": {},
   "outputs": [
    {
     "name": "stdout",
     "output_type": "stream",
     "text": [
      "0\n",
      "0\n",
      "1\n",
      "3\n",
      "6\n",
      "10\n",
      "15\n",
      "21\n",
      "28\n",
      "36\n",
      "45\n",
      "55\n",
      "66\n",
      "78\n",
      "91\n",
      "105\n",
      "120\n",
      "136\n",
      "153\n",
      "171\n",
      "190\n",
      "210\n",
      "231\n",
      "253\n",
      "276\n",
      "300\n",
      "325\n",
      "351\n",
      "378\n",
      "406\n",
      "435\n",
      "465\n",
      "496\n",
      "528\n",
      "561\n",
      "595\n",
      "630\n",
      "666\n",
      "703\n",
      "741\n",
      "780\n",
      "820\n",
      "861\n",
      "903\n",
      "946\n",
      "990\n",
      "1035\n",
      "1081\n",
      "1128\n",
      "1176\n",
      "1225\n",
      "1275\n",
      "1326\n",
      "1378\n",
      "1431\n",
      "1485\n",
      "1540\n",
      "1596\n",
      "1653\n",
      "1711\n",
      "1770\n",
      "1830\n",
      "1891\n",
      "1953\n",
      "2016\n",
      "2080\n",
      "2145\n",
      "2211\n",
      "2278\n",
      "2346\n",
      "2415\n",
      "2485\n",
      "2556\n",
      "2628\n",
      "2701\n",
      "2775\n",
      "2850\n",
      "2926\n",
      "3003\n",
      "3081\n",
      "3160\n",
      "3240\n",
      "3321\n",
      "3403\n",
      "3486\n",
      "3570\n",
      "3655\n",
      "3741\n",
      "3828\n",
      "3916\n",
      "4005\n",
      "4095\n",
      "4186\n",
      "4278\n",
      "4371\n",
      "4465\n",
      "4560\n",
      "4656\n",
      "4753\n",
      "4851\n",
      "4950\n"
     ]
    }
   ],
   "source": [
    "a = 0\n",
    "i = range(0,101)\n",
    "for x in i:\n",
    "    print(a)\n",
    "    a += x"
   ]
  },
  {
   "cell_type": "markdown",
   "id": "c76048a2",
   "metadata": {},
   "source": [
    "## Meer functies en conditionals"
   ]
  },
  {
   "cell_type": "markdown",
   "id": "1ee76b12",
   "metadata": {},
   "source": [
    "Kijk wat de volgende operators doen:"
   ]
  },
  {
   "cell_type": "code",
   "execution_count": 34,
   "id": "0f163dae",
   "metadata": {},
   "outputs": [
    {
     "name": "stdout",
     "output_type": "stream",
     "text": [
      "False\n",
      "True\n",
      "True\n",
      "False\n",
      "False\n",
      "True\n"
     ]
    }
   ],
   "source": [
    "print(5 == 6)\n",
    "print(5 != 6)\n",
    "print( 5 < 6 )\n",
    "print( 5 > 6 )\n",
    "print( 5 >= 6 )\n",
    "print( 5 <= 6 )"
   ]
  },
  {
   "cell_type": "markdown",
   "id": "a6ed6ed0",
   "metadata": {},
   "source": [
    "Kijk wat de \"in\" operator doet:"
   ]
  },
  {
   "cell_type": "code",
   "execution_count": 35,
   "id": "a779488b",
   "metadata": {},
   "outputs": [
    {
     "name": "stdout",
     "output_type": "stream",
     "text": [
      "True\n",
      "True\n",
      "False\n"
     ]
    }
   ],
   "source": [
    "print('s' in 'Mississippi')\n",
    "print('sip' in 'Mississippi')\n",
    "print('mis' in 'Mississippi')"
   ]
  },
  {
   "cell_type": "markdown",
   "id": "f5522314",
   "metadata": {},
   "source": [
    "Maak een functie die 2 string variabelen aan elkaar plakt en print (Bouw een controle in of het wel string variabelen zijn)"
   ]
  },
  {
   "cell_type": "code",
   "execution_count": 36,
   "id": "b83298a8",
   "metadata": {},
   "outputs": [],
   "source": [
    "def ran(first, second):\n",
    "    if (type(first) == str and type(second) == str):\n",
    "        print(first, second)"
   ]
  },
  {
   "cell_type": "code",
   "execution_count": 37,
   "id": "edc38476",
   "metadata": {},
   "outputs": [
    {
     "name": "stdout",
     "output_type": "stream",
     "text": [
      "Ik heet Tracy\n"
     ]
    }
   ],
   "source": [
    "ran(\"Ik heet\",\"Tracy\")"
   ]
  },
  {
   "cell_type": "code",
   "execution_count": 38,
   "id": "2cd37dda",
   "metadata": {},
   "outputs": [],
   "source": [
    "ran(\"t\",2)"
   ]
  },
  {
   "cell_type": "markdown",
   "id": "5288b113",
   "metadata": {},
   "source": [
    "Maak een functie die 2 integers bij elkaar optelt (Alleen als de tweede groter is dan de eerste, Alleen als ze gelijk zijn)"
   ]
  },
  {
   "cell_type": "code",
   "execution_count": 39,
   "id": "2e54d6e0",
   "metadata": {},
   "outputs": [],
   "source": [
    "def ran_sum(first, second):\n",
    "    if (first <= second):\n",
    "        return first+second"
   ]
  },
  {
   "cell_type": "code",
   "execution_count": 40,
   "id": "3910f536",
   "metadata": {},
   "outputs": [
    {
     "name": "stdout",
     "output_type": "stream",
     "text": [
      "9\n"
     ]
    }
   ],
   "source": [
    "print(ran_sum(4, 5))"
   ]
  },
  {
   "cell_type": "code",
   "execution_count": 41,
   "id": "c12a1762",
   "metadata": {},
   "outputs": [
    {
     "name": "stdout",
     "output_type": "stream",
     "text": [
      "None\n"
     ]
    }
   ],
   "source": [
    "print(ran_sum(6, 5))"
   ]
  },
  {
   "cell_type": "code",
   "execution_count": 42,
   "id": "35b0a8a4",
   "metadata": {},
   "outputs": [
    {
     "name": "stdout",
     "output_type": "stream",
     "text": [
      "10\n"
     ]
    }
   ],
   "source": [
    "print(ran_sum(5, 5))"
   ]
  },
  {
   "cell_type": "markdown",
   "id": "558b8787",
   "metadata": {},
   "source": [
    "Tel steeds 1 op bij het laagste getal tot ze gelijk zijn en geef dan dat getal terug. Print de\n",
    "tussenresultaten"
   ]
  },
  {
   "cell_type": "code",
   "execution_count": 43,
   "id": "f68af249",
   "metadata": {},
   "outputs": [],
   "source": [
    "def ran_sum2(first, second):\n",
    "    if (first > second):\n",
    "        second += 1\n",
    "        print(first, second)\n",
    "        ran_sum2(first, second)\n",
    "    elif (second > first):\n",
    "        first += 1\n",
    "        print(first, second)\n",
    "        ran_sum2(first, second)\n",
    "    elif (first == second):\n",
    "        print(first, second)"
   ]
  },
  {
   "cell_type": "code",
   "execution_count": 44,
   "id": "ac4ca467",
   "metadata": {},
   "outputs": [
    {
     "name": "stdout",
     "output_type": "stream",
     "text": [
      "31 7\n",
      "31 8\n",
      "31 9\n",
      "31 10\n",
      "31 11\n",
      "31 12\n",
      "31 13\n",
      "31 14\n",
      "31 15\n",
      "31 16\n",
      "31 17\n",
      "31 18\n",
      "31 19\n",
      "31 20\n",
      "31 21\n",
      "31 22\n",
      "31 23\n",
      "31 24\n",
      "31 25\n",
      "31 26\n",
      "31 27\n",
      "31 28\n",
      "31 29\n",
      "31 30\n",
      "31 31\n",
      "31 31\n"
     ]
    }
   ],
   "source": [
    "ran_sum2(31, 6)"
   ]
  },
  {
   "cell_type": "markdown",
   "id": "e90abbfb",
   "metadata": {},
   "source": [
    "Maak simpele dictionary a = { 'a' : 1, 'b' : 20}"
   ]
  },
  {
   "cell_type": "code",
   "execution_count": 45,
   "id": "7a986a97",
   "metadata": {},
   "outputs": [],
   "source": [
    "a = {'a': 1, 'b':20}"
   ]
  },
  {
   "cell_type": "markdown",
   "id": "aae70d12",
   "metadata": {},
   "source": [
    "Voeg toe: 'c'=5"
   ]
  },
  {
   "cell_type": "code",
   "execution_count": 46,
   "id": "21e5dc53",
   "metadata": {},
   "outputs": [],
   "source": [
    "a.update({'c': 5})"
   ]
  },
  {
   "cell_type": "markdown",
   "id": "a6be4c13",
   "metadata": {},
   "source": [
    "Kijk of de key 'c' er nu in zit"
   ]
  },
  {
   "cell_type": "code",
   "execution_count": 47,
   "id": "be6a4fde",
   "metadata": {},
   "outputs": [
    {
     "name": "stdout",
     "output_type": "stream",
     "text": [
      "{'a': 1, 'b': 20, 'c': 5}\n"
     ]
    }
   ],
   "source": [
    "print(a)"
   ]
  },
  {
   "cell_type": "markdown",
   "id": "f5ee0d70",
   "metadata": {},
   "source": [
    "Print de keys & values"
   ]
  },
  {
   "cell_type": "code",
   "execution_count": 11,
   "id": "45a6e61c",
   "metadata": {},
   "outputs": [
    {
     "data": {
      "text/plain": [
       "dict_keys(['a', 'b', 'c'])"
      ]
     },
     "execution_count": 11,
     "metadata": {},
     "output_type": "execute_result"
    }
   ],
   "source": [
    "a.keys()"
   ]
  },
  {
   "cell_type": "code",
   "execution_count": 12,
   "id": "6ad720c9",
   "metadata": {},
   "outputs": [
    {
     "data": {
      "text/plain": [
       "dict_values([1, 20, 5])"
      ]
     },
     "execution_count": 12,
     "metadata": {},
     "output_type": "execute_result"
    }
   ],
   "source": [
    "a.values()"
   ]
  },
  {
   "cell_type": "markdown",
   "id": "85372f56",
   "metadata": {},
   "source": [
    "Loop over de values"
   ]
  },
  {
   "cell_type": "code",
   "execution_count": 15,
   "id": "ad0f1a00",
   "metadata": {},
   "outputs": [
    {
     "name": "stdout",
     "output_type": "stream",
     "text": [
      "1\n",
      "20\n",
      "5\n"
     ]
    }
   ],
   "source": [
    "for value in a:\n",
    "    print(a[value])"
   ]
  },
  {
   "cell_type": "markdown",
   "id": "bb662cdf",
   "metadata": {},
   "source": [
    "Loop over de gesorteerde keys en de gesorteerde values"
   ]
  },
  {
   "cell_type": "code",
   "execution_count": 51,
   "id": "0ff98063",
   "metadata": {},
   "outputs": [
    {
     "name": "stdout",
     "output_type": "stream",
     "text": [
      "['a', 'b', 'c']\n",
      "[1, 5, 20]\n"
     ]
    }
   ],
   "source": [
    "print(sorted(a.keys()))\n",
    "print(sorted(a.values()))"
   ]
  },
  {
   "cell_type": "code",
   "execution_count": 70,
   "id": "330331de",
   "metadata": {},
   "outputs": [],
   "source": [
    "def letters(text):\n",
    "    l = {}\n",
    "    for i in text:\n",
    "        l[i] = l.get(i, 0)+1\n",
    "    print(sum(l.values()))"
   ]
  },
  {
   "cell_type": "code",
   "execution_count": 71,
   "id": "22c5733b",
   "metadata": {},
   "outputs": [
    {
     "name": "stdout",
     "output_type": "stream",
     "text": [
      "43\n"
     ]
    }
   ],
   "source": [
    "letters(\"Software engineering is een leuke opleiding\")"
   ]
  }
 ],
 "metadata": {
  "kernelspec": {
   "display_name": "Python 3 (ipykernel)",
   "language": "python",
   "name": "python3"
  },
  "language_info": {
   "codemirror_mode": {
    "name": "ipython",
    "version": 3
   },
   "file_extension": ".py",
   "mimetype": "text/x-python",
   "name": "python",
   "nbconvert_exporter": "python",
   "pygments_lexer": "ipython3",
   "version": "3.10.6"
  }
 },
 "nbformat": 4,
 "nbformat_minor": 5
}
