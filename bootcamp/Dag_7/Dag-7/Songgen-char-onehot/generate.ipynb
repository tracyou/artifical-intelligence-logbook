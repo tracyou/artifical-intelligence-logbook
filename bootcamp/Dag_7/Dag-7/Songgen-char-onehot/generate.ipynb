{
 "cells": [
  {
   "cell_type": "code",
   "execution_count": 9,
   "metadata": {},
   "outputs": [],
   "source": [
    "import numpy as np\n",
    "import pandas as pd\n",
    "from keras.models import Sequential\n",
    "from keras.layers import LSTM, Dense, Activation, GRU\n",
    "from keras.callbacks import ModelCheckpoint\n",
    "from random import randint\n",
    "from keras.models import model_from_yaml\n"
   ]
  },
  {
   "cell_type": "code",
   "execution_count": 10,
   "metadata": {},
   "outputs": [],
   "source": [
    "abba = pd.read_csv('abba.csv')\n",
    "acdc = pd.read_csv('acdc.csv')\n",
    "\n",
    "abba_corpus = ' ' \n",
    "for index, row in abba.iterrows():\n",
    "    abba_corpus = abba_corpus + str(row['lyrics'])\n",
    "\n",
    "acdc_corpus = ' ' \n",
    "for index, row in acdc.iterrows():\n",
    "    acdc_corpus = acdc_corpus + str(row['lyrics'])\n",
    "    \n",
    "abba_corpus = abba_corpus.lower()\n",
    "acdc_corpus = acdc_corpus.lower()\n",
    "\n",
    "corpus = abba_corpus + acdc_corpus\n",
    "\n",
    "# Make our encoders annd decoders \n",
    "corpus_length = len(corpus)\n",
    "chars = sorted(list(set(corpus)))\n",
    "sentence_length = 20\n",
    "num_chars = len(chars)\n",
    "encoding = {c: i for i, c in enumerate(chars)}\n",
    "decoding = {i: c for i, c in enumerate(chars)}"
   ]
  },
  {
   "cell_type": "code",
   "execution_count": 11,
   "metadata": {},
   "outputs": [
    {
     "name": "stdout",
     "output_type": "stream",
     "text": [
      "Model: \"sequential\"\n",
      "_________________________________________________________________\n",
      "Layer (type)                 Output Shape              Param #   \n",
      "=================================================================\n",
      "lstm (LSTM)                  (None, 20, 64)            35072     \n",
      "_________________________________________________________________\n",
      "lstm_1 (LSTM)                (None, 64)                33024     \n",
      "_________________________________________________________________\n",
      "dense (Dense)                (None, 72)                4680      \n",
      "_________________________________________________________________\n",
      "activation (Activation)      (None, 72)                0         \n",
      "=================================================================\n",
      "Total params: 72,776\n",
      "Trainable params: 72,776\n",
      "Non-trainable params: 0\n",
      "_________________________________________________________________\n"
     ]
    }
   ],
   "source": [
    "from keras.models import model_from_json\n",
    "\n",
    "# Build our network from loaded architecture and weights\n",
    "with open('model.json') as model_file:\n",
    "    architecture = model_file.read()\n",
    "\n",
    "model = model_from_json(architecture)\n",
    "model.load_weights('weights-05.hdf5')\n",
    "model.compile(loss='categorical_crossentropy', optimizer='adam')\n",
    "\n",
    "model.summary()\n"
   ]
  },
  {
   "cell_type": "code",
   "execution_count": 12,
   "metadata": {},
   "outputs": [],
   "source": [
    "def sample(preds, temperature=1.0):\n",
    "  if temperature <= 0:\n",
    "    return np.argmax(preds)\n",
    "  preds = np.asarray(preds).astype('float64')\n",
    "  preds = np.log(preds) / temperature\n",
    "  exp_preds = np.exp(preds)\n",
    "  preds = exp_preds / np.sum(exp_preds)\n",
    "  probas = np.random.multinomial(1, preds, 1)\n",
    "  return np.argmax(probas)"
   ]
  },
  {
   "cell_type": "code",
   "execution_count": 13,
   "metadata": {},
   "outputs": [],
   "source": [
    "def generate(seed_pattern):\n",
    "        X = np.zeros((1, sentence_length, num_chars), dtype=np.bool)\n",
    "        #print(X.shape)\n",
    "        for i, character in enumerate(seed_pattern):\n",
    "            X[0, i, encoding[character]] = 1\n",
    "        \n",
    "        generated_text = \"\"\n",
    "        for i in range(500):\n",
    "            # even de temperatuur toevoegen.\n",
    "            prediction = sample(model.predict(X, verbose=0)[0],0.3)\n",
    "            generated_text += decoding[prediction]\n",
    "\n",
    "            activations = np.zeros((1, 1, num_chars), dtype=np.bool)\n",
    "            activations[0, 0, prediction] = 1\n",
    "            X = np.concatenate((X[:, 1:, :], activations), axis=1)\n",
    "\n",
    "        return generated_text\n",
    "\n",
    "def make_seed(seed_phrase=\"\"):\n",
    "        if seed_phrase:\n",
    "            phrase_length = len(seed_phrase)\n",
    "            pattern = \"\"\n",
    "            for i in range (0, sentence_length):\n",
    "                pattern += seed_phrase[i % phrase_length]\n",
    "        else:\n",
    "            seed = randint(0, corpus_length - sentence_length)\n",
    "            pattern = abba_corpus[seed:seed + sentence_length]\n",
    "\n",
    "        return pattern"
   ]
  },
  {
   "cell_type": "code",
   "execution_count": 14,
   "metadata": {
    "scrolled": true
   },
   "outputs": [
    {
     "name": "stdout",
     "output_type": "stream",
     "text": [
      "in the bard and show\n",
      "\n",
      "i want to the say and the show\n",
      "i'm a man it in the sing\n",
      "i can't me feel a put the way\n",
      "somether\n",
      "she's gonna be the said\n",
      "i could the stay the say\n",
      "i have it of the say\n",
      "she's got the gonna like a better\n",
      "i want to she can your like it to me\n",
      "when you know i can't got it alound the sun she was on the pack\n",
      "i'm gonna shooting to have a fries\n",
      "we all the gonna make a canger of a light\n",
      "like a be can come in the show\n",
      "i'm a brow i can't got the fire\n",
      "i'm gonna cander the say\n",
      "i want the startin\n"
     ]
    }
   ],
   "source": [
    "\n",
    "seed = make_seed('in the bard and show you on your lovelight')\n",
    "print(seed)\n",
    "txt =  generate(seed)\n",
    "print(txt)"
   ]
  },
  {
   "cell_type": "markdown",
   "metadata": {},
   "source": [
    "## Sample song\n",
    "In the bard and show you on your lovelight and i can't get the mowner i'm a marion an and every mind, there's a boot"
   ]
  },
  {
   "cell_type": "code",
   "execution_count": null,
   "metadata": {},
   "outputs": [],
   "source": []
  }
 ],
 "metadata": {
  "kernelspec": {
   "display_name": "Python 3 (ipykernel)",
   "language": "python",
   "name": "python3"
  },
  "language_info": {
   "codemirror_mode": {
    "name": "ipython",
    "version": 3
   },
   "file_extension": ".py",
   "mimetype": "text/x-python",
   "name": "python",
   "nbconvert_exporter": "python",
   "pygments_lexer": "ipython3",
   "version": "3.10.6"
  }
 },
 "nbformat": 4,
 "nbformat_minor": 2
}
