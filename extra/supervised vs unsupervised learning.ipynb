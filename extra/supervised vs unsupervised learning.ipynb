{
 "cells": [
  {
   "cell_type": "markdown",
   "id": "a37c6853",
   "metadata": {},
   "source": [
    "# Supervised vs unsupervised learning\n",
    "\n",
    "Supervised learning is wanneer een model met gelabelde data getrained wordt. Dit betekent dat bij supervised learning de output al bekend is. Het model wordt dan getrained door input data aan de juiste output data te koppelen, om zo uiteindelijk data waarvoor de output niet bekent is te kunnen voorspellen.\n",
    "\n",
    "Unsupervised learning wordt de model getrained met ongelablde data. Het model moet hierbij zelf patronen en relaties vinden tussen de data die het binnenkrijgt."
   ]
  }
 ],
 "metadata": {
  "kernelspec": {
   "display_name": "Python 3 (ipykernel)",
   "language": "python",
   "name": "python3"
  },
  "language_info": {
   "codemirror_mode": {
    "name": "ipython",
    "version": 3
   },
   "file_extension": ".py",
   "mimetype": "text/x-python",
   "name": "python",
   "nbconvert_exporter": "python",
   "pygments_lexer": "ipython3",
   "version": "3.10.6"
  }
 },
 "nbformat": 4,
 "nbformat_minor": 5
}
